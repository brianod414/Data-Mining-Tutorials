{
 "cells": [
  {
   "cell_type": "markdown",
   "id": "dab7c956",
   "metadata": {},
   "source": [
    "# Lab 2: Data Preparation"
   ]
  },
  {
   "cell_type": "markdown",
   "id": "8f13ab0a",
   "metadata": {},
   "source": [
    "In this excercise I will \n",
    "* encode all categorical attributes as numerical,\n",
    "* treat missing values\n",
    "* apply scaler where necessary\n",
    "* treat outliers appropriately\n",
    "* create at 2 new feature from the existing ones.\n",
    "\n",
    "and save the prepared dataset as a CSV file."
   ]
  },
  {
   "cell_type": "markdown",
   "id": "68132920",
   "metadata": {},
   "source": [
    "## A. Import Python Modules and Dataset"
   ]
  },
  {
   "cell_type": "code",
   "execution_count": 1,
   "id": "5df724c4",
   "metadata": {},
   "outputs": [
    {
     "data": {
      "text/html": [
       "<div>\n",
       "<style scoped>\n",
       "    .dataframe tbody tr th:only-of-type {\n",
       "        vertical-align: middle;\n",
       "    }\n",
       "\n",
       "    .dataframe tbody tr th {\n",
       "        vertical-align: top;\n",
       "    }\n",
       "\n",
       "    .dataframe thead th {\n",
       "        text-align: right;\n",
       "    }\n",
       "</style>\n",
       "<table border=\"1\" class=\"dataframe\">\n",
       "  <thead>\n",
       "    <tr style=\"text-align: right;\">\n",
       "      <th></th>\n",
       "      <th>age</th>\n",
       "      <th>job</th>\n",
       "      <th>marital</th>\n",
       "      <th>education</th>\n",
       "      <th>default</th>\n",
       "      <th>balance</th>\n",
       "      <th>housing</th>\n",
       "      <th>loan</th>\n",
       "      <th>contact</th>\n",
       "      <th>day</th>\n",
       "      <th>month</th>\n",
       "      <th>duration</th>\n",
       "      <th>campaign</th>\n",
       "      <th>pdays</th>\n",
       "      <th>previous</th>\n",
       "      <th>poutcome</th>\n",
       "      <th>subscribed</th>\n",
       "    </tr>\n",
       "  </thead>\n",
       "  <tbody>\n",
       "    <tr>\n",
       "      <th>1995</th>\n",
       "      <td>20.0</td>\n",
       "      <td>student</td>\n",
       "      <td>single</td>\n",
       "      <td>NaN</td>\n",
       "      <td>no</td>\n",
       "      <td>2785</td>\n",
       "      <td>no</td>\n",
       "      <td>no</td>\n",
       "      <td>cellular</td>\n",
       "      <td>16</td>\n",
       "      <td>sep</td>\n",
       "      <td>327</td>\n",
       "      <td>2</td>\n",
       "      <td>-1</td>\n",
       "      <td>0</td>\n",
       "      <td>NaN</td>\n",
       "      <td>yes</td>\n",
       "    </tr>\n",
       "    <tr>\n",
       "      <th>1996</th>\n",
       "      <td>28.0</td>\n",
       "      <td>admin.</td>\n",
       "      <td>single</td>\n",
       "      <td>secondary</td>\n",
       "      <td>no</td>\n",
       "      <td>127</td>\n",
       "      <td>no</td>\n",
       "      <td>no</td>\n",
       "      <td>cellular</td>\n",
       "      <td>16</td>\n",
       "      <td>sep</td>\n",
       "      <td>1334</td>\n",
       "      <td>2</td>\n",
       "      <td>-1</td>\n",
       "      <td>0</td>\n",
       "      <td>NaN</td>\n",
       "      <td>yes</td>\n",
       "    </tr>\n",
       "    <tr>\n",
       "      <th>1997</th>\n",
       "      <td>81.0</td>\n",
       "      <td>retired</td>\n",
       "      <td>married</td>\n",
       "      <td>primary</td>\n",
       "      <td>no</td>\n",
       "      <td>1154</td>\n",
       "      <td>no</td>\n",
       "      <td>no</td>\n",
       "      <td>telephone</td>\n",
       "      <td>17</td>\n",
       "      <td>sep</td>\n",
       "      <td>231</td>\n",
       "      <td>1</td>\n",
       "      <td>-1</td>\n",
       "      <td>0</td>\n",
       "      <td>NaN</td>\n",
       "      <td>yes</td>\n",
       "    </tr>\n",
       "    <tr>\n",
       "      <th>1998</th>\n",
       "      <td>46.0</td>\n",
       "      <td>services</td>\n",
       "      <td>married</td>\n",
       "      <td>primary</td>\n",
       "      <td>no</td>\n",
       "      <td>4343</td>\n",
       "      <td>yes</td>\n",
       "      <td>no</td>\n",
       "      <td>NaN</td>\n",
       "      <td>20</td>\n",
       "      <td>sep</td>\n",
       "      <td>185</td>\n",
       "      <td>1</td>\n",
       "      <td>-1</td>\n",
       "      <td>0</td>\n",
       "      <td>NaN</td>\n",
       "      <td>yes</td>\n",
       "    </tr>\n",
       "    <tr>\n",
       "      <th>1999</th>\n",
       "      <td>40.0</td>\n",
       "      <td>entrepreneur</td>\n",
       "      <td>married</td>\n",
       "      <td>secondary</td>\n",
       "      <td>no</td>\n",
       "      <td>6403</td>\n",
       "      <td>no</td>\n",
       "      <td>no</td>\n",
       "      <td>cellular</td>\n",
       "      <td>22</td>\n",
       "      <td>sep</td>\n",
       "      <td>208</td>\n",
       "      <td>2</td>\n",
       "      <td>-1</td>\n",
       "      <td>0</td>\n",
       "      <td>NaN</td>\n",
       "      <td>yes</td>\n",
       "    </tr>\n",
       "  </tbody>\n",
       "</table>\n",
       "</div>"
      ],
      "text/plain": [
       "       age           job  marital  education default  balance housing loan  \\\n",
       "1995  20.0       student   single        NaN      no     2785      no   no   \n",
       "1996  28.0        admin.   single  secondary      no      127      no   no   \n",
       "1997  81.0       retired  married    primary      no     1154      no   no   \n",
       "1998  46.0      services  married    primary      no     4343     yes   no   \n",
       "1999  40.0  entrepreneur  married  secondary      no     6403      no   no   \n",
       "\n",
       "        contact  day month  duration  campaign  pdays  previous poutcome  \\\n",
       "1995   cellular   16   sep       327         2     -1         0      NaN   \n",
       "1996   cellular   16   sep      1334         2     -1         0      NaN   \n",
       "1997  telephone   17   sep       231         1     -1         0      NaN   \n",
       "1998        NaN   20   sep       185         1     -1         0      NaN   \n",
       "1999   cellular   22   sep       208         2     -1         0      NaN   \n",
       "\n",
       "     subscribed  \n",
       "1995        yes  \n",
       "1996        yes  \n",
       "1997        yes  \n",
       "1998        yes  \n",
       "1999        yes  "
      ]
     },
     "execution_count": 1,
     "metadata": {},
     "output_type": "execute_result"
    }
   ],
   "source": [
    "import pandas as pd\n",
    "import numpy as np\n",
    "import seaborn as sns\n",
    "from sklearn.preprocessing import RobustScaler\n",
    "import matplotlib.pyplot as plt\n",
    "%matplotlib inline\n",
    "\n",
    "df = pd.read_csv(\"./bank.csv\")\n",
    "df.tail()"
   ]
  },
  {
   "cell_type": "markdown",
   "id": "d30dbc3e",
   "metadata": {},
   "source": [
    "We make a copy of the data prior to processing. "
   ]
  },
  {
   "cell_type": "code",
   "execution_count": 2,
   "id": "cafd7f55",
   "metadata": {},
   "outputs": [],
   "source": [
    "df_original = df"
   ]
  },
  {
   "cell_type": "markdown",
   "id": "35e474cc",
   "metadata": {},
   "source": [
    "We check the data for missing values."
   ]
  },
  {
   "cell_type": "code",
   "execution_count": 3,
   "id": "0d289633",
   "metadata": {},
   "outputs": [
    {
     "data": {
      "text/plain": [
       "age            12\n",
       "job            10\n",
       "marital         0\n",
       "education     104\n",
       "default         0\n",
       "balance         0\n",
       "housing         0\n",
       "loan            0\n",
       "contact       191\n",
       "day             0\n",
       "month           0\n",
       "duration        0\n",
       "campaign        0\n",
       "pdays           0\n",
       "previous        0\n",
       "poutcome      454\n",
       "subscribed      0\n",
       "dtype: int64"
      ]
     },
     "execution_count": 3,
     "metadata": {},
     "output_type": "execute_result"
    }
   ],
   "source": [
    "df.isna().sum()"
   ]
  },
  {
   "cell_type": "markdown",
   "id": "9f83e3df",
   "metadata": {},
   "source": [
    "There are 454 missing values for `poutcome`, the previous outcome of the last campaign. There are 191 missing values for `contact`, 104 missing values for `education`. `age` and `job` have the least number of missing values, 12 and 10 respectively."
   ]
  },
  {
   "cell_type": "markdown",
   "id": "d526588d",
   "metadata": {},
   "source": [
    "## B. Process and Encode the Categorical Features"
   ]
  },
  {
   "cell_type": "markdown",
   "id": "b7797993",
   "metadata": {},
   "source": [
    "We have catagorical features: \n",
    "* `job`\n",
    "* `martial`\n",
    "* `education`\n",
    "* `contact`\n",
    "* `month`\n",
    "* `poutcome`\n",
    "\n",
    "<br>\n",
    "\n",
    "including binary variables:\n",
    "* `default`\n",
    "* `housing`\n",
    "* `loan`\n",
    "* `subscribed`\n"
   ]
  },
  {
   "cell_type": "markdown",
   "id": "7bb48ddc",
   "metadata": {},
   "source": [
    "### Encode Ordinal Categorical Attributes "
   ]
  },
  {
   "cell_type": "markdown",
   "id": "749b0196",
   "metadata": {},
   "source": [
    "The column `education` is ordinal, where we have 'primary', 'secondary', and 'tertiary' education levels, which can be replaced by 1, 2, 3. "
   ]
  },
  {
   "cell_type": "code",
   "execution_count": 4,
   "id": "a0d5c33c",
   "metadata": {},
   "outputs": [
    {
     "data": {
      "text/html": [
       "<div>\n",
       "<style scoped>\n",
       "    .dataframe tbody tr th:only-of-type {\n",
       "        vertical-align: middle;\n",
       "    }\n",
       "\n",
       "    .dataframe tbody tr th {\n",
       "        vertical-align: top;\n",
       "    }\n",
       "\n",
       "    .dataframe thead th {\n",
       "        text-align: right;\n",
       "    }\n",
       "</style>\n",
       "<table border=\"1\" class=\"dataframe\">\n",
       "  <thead>\n",
       "    <tr style=\"text-align: right;\">\n",
       "      <th></th>\n",
       "      <th>age</th>\n",
       "      <th>job</th>\n",
       "      <th>marital</th>\n",
       "      <th>education</th>\n",
       "      <th>default</th>\n",
       "      <th>balance</th>\n",
       "      <th>housing</th>\n",
       "      <th>loan</th>\n",
       "      <th>contact</th>\n",
       "      <th>day</th>\n",
       "      <th>month</th>\n",
       "      <th>duration</th>\n",
       "      <th>campaign</th>\n",
       "      <th>pdays</th>\n",
       "      <th>previous</th>\n",
       "      <th>poutcome</th>\n",
       "      <th>subscribed</th>\n",
       "    </tr>\n",
       "  </thead>\n",
       "  <tbody>\n",
       "    <tr>\n",
       "      <th>0</th>\n",
       "      <td>32.0</td>\n",
       "      <td>technician</td>\n",
       "      <td>single</td>\n",
       "      <td>3.0</td>\n",
       "      <td>no</td>\n",
       "      <td>392</td>\n",
       "      <td>yes</td>\n",
       "      <td>no</td>\n",
       "      <td>cellular</td>\n",
       "      <td>1</td>\n",
       "      <td>apr</td>\n",
       "      <td>957</td>\n",
       "      <td>2</td>\n",
       "      <td>131</td>\n",
       "      <td>2</td>\n",
       "      <td>failure</td>\n",
       "      <td>no</td>\n",
       "    </tr>\n",
       "    <tr>\n",
       "      <th>1</th>\n",
       "      <td>39.0</td>\n",
       "      <td>technician</td>\n",
       "      <td>divorced</td>\n",
       "      <td>2.0</td>\n",
       "      <td>no</td>\n",
       "      <td>688</td>\n",
       "      <td>yes</td>\n",
       "      <td>yes</td>\n",
       "      <td>cellular</td>\n",
       "      <td>1</td>\n",
       "      <td>apr</td>\n",
       "      <td>233</td>\n",
       "      <td>2</td>\n",
       "      <td>133</td>\n",
       "      <td>1</td>\n",
       "      <td>failure</td>\n",
       "      <td>no</td>\n",
       "    </tr>\n",
       "    <tr>\n",
       "      <th>2</th>\n",
       "      <td>59.0</td>\n",
       "      <td>retired</td>\n",
       "      <td>married</td>\n",
       "      <td>2.0</td>\n",
       "      <td>no</td>\n",
       "      <td>1035</td>\n",
       "      <td>yes</td>\n",
       "      <td>yes</td>\n",
       "      <td>cellular</td>\n",
       "      <td>1</td>\n",
       "      <td>apr</td>\n",
       "      <td>126</td>\n",
       "      <td>2</td>\n",
       "      <td>239</td>\n",
       "      <td>1</td>\n",
       "      <td>failure</td>\n",
       "      <td>no</td>\n",
       "    </tr>\n",
       "    <tr>\n",
       "      <th>3</th>\n",
       "      <td>47.0</td>\n",
       "      <td>blue-collar</td>\n",
       "      <td>married</td>\n",
       "      <td>2.0</td>\n",
       "      <td>no</td>\n",
       "      <td>398</td>\n",
       "      <td>yes</td>\n",
       "      <td>yes</td>\n",
       "      <td>cellular</td>\n",
       "      <td>1</td>\n",
       "      <td>apr</td>\n",
       "      <td>274</td>\n",
       "      <td>1</td>\n",
       "      <td>238</td>\n",
       "      <td>2</td>\n",
       "      <td>failure</td>\n",
       "      <td>no</td>\n",
       "    </tr>\n",
       "    <tr>\n",
       "      <th>4</th>\n",
       "      <td>54.0</td>\n",
       "      <td>retired</td>\n",
       "      <td>married</td>\n",
       "      <td>2.0</td>\n",
       "      <td>no</td>\n",
       "      <td>1004</td>\n",
       "      <td>yes</td>\n",
       "      <td>no</td>\n",
       "      <td>cellular</td>\n",
       "      <td>1</td>\n",
       "      <td>apr</td>\n",
       "      <td>479</td>\n",
       "      <td>1</td>\n",
       "      <td>307</td>\n",
       "      <td>1</td>\n",
       "      <td>failure</td>\n",
       "      <td>no</td>\n",
       "    </tr>\n",
       "  </tbody>\n",
       "</table>\n",
       "</div>"
      ],
      "text/plain": [
       "    age          job   marital  education default  balance housing loan  \\\n",
       "0  32.0   technician    single        3.0      no      392     yes   no   \n",
       "1  39.0   technician  divorced        2.0      no      688     yes  yes   \n",
       "2  59.0      retired   married        2.0      no     1035     yes  yes   \n",
       "3  47.0  blue-collar   married        2.0      no      398     yes  yes   \n",
       "4  54.0      retired   married        2.0      no     1004     yes   no   \n",
       "\n",
       "    contact  day month  duration  campaign  pdays  previous poutcome  \\\n",
       "0  cellular    1   apr       957         2    131         2  failure   \n",
       "1  cellular    1   apr       233         2    133         1  failure   \n",
       "2  cellular    1   apr       126         2    239         1  failure   \n",
       "3  cellular    1   apr       274         1    238         2  failure   \n",
       "4  cellular    1   apr       479         1    307         1  failure   \n",
       "\n",
       "  subscribed  \n",
       "0         no  \n",
       "1         no  \n",
       "2         no  \n",
       "3         no  \n",
       "4         no  "
      ]
     },
     "execution_count": 4,
     "metadata": {},
     "output_type": "execute_result"
    }
   ],
   "source": [
    "scale_mapper = {\n",
    "    \"primary\": 1,\n",
    "    \"secondary\": 2,\n",
    "    \"tertiary\": 3\n",
    "}\n",
    "\n",
    "df['education'] = df['education'].replace(scale_mapper)\n",
    "\n",
    "df.head()"
   ]
  },
  {
   "cell_type": "code",
   "execution_count": 5,
   "id": "412b89f9",
   "metadata": {
    "scrolled": true
   },
   "outputs": [
    {
     "data": {
      "text/html": [
       "<div>\n",
       "<style scoped>\n",
       "    .dataframe tbody tr th:only-of-type {\n",
       "        vertical-align: middle;\n",
       "    }\n",
       "\n",
       "    .dataframe tbody tr th {\n",
       "        vertical-align: top;\n",
       "    }\n",
       "\n",
       "    .dataframe thead th {\n",
       "        text-align: right;\n",
       "    }\n",
       "</style>\n",
       "<table border=\"1\" class=\"dataframe\">\n",
       "  <thead>\n",
       "    <tr style=\"text-align: right;\">\n",
       "      <th></th>\n",
       "      <th>age</th>\n",
       "      <th>job</th>\n",
       "      <th>marital</th>\n",
       "      <th>education</th>\n",
       "      <th>default</th>\n",
       "      <th>balance</th>\n",
       "      <th>housing</th>\n",
       "      <th>loan</th>\n",
       "      <th>contact</th>\n",
       "      <th>day</th>\n",
       "      <th>month</th>\n",
       "      <th>duration</th>\n",
       "      <th>campaign</th>\n",
       "      <th>pdays</th>\n",
       "      <th>previous</th>\n",
       "      <th>poutcome</th>\n",
       "      <th>subscribed</th>\n",
       "    </tr>\n",
       "  </thead>\n",
       "  <tbody>\n",
       "    <tr>\n",
       "      <th>0</th>\n",
       "      <td>32.0</td>\n",
       "      <td>technician</td>\n",
       "      <td>single</td>\n",
       "      <td>3.0</td>\n",
       "      <td>no</td>\n",
       "      <td>392</td>\n",
       "      <td>yes</td>\n",
       "      <td>no</td>\n",
       "      <td>cellular</td>\n",
       "      <td>1</td>\n",
       "      <td>4</td>\n",
       "      <td>957</td>\n",
       "      <td>2</td>\n",
       "      <td>131</td>\n",
       "      <td>2</td>\n",
       "      <td>failure</td>\n",
       "      <td>no</td>\n",
       "    </tr>\n",
       "    <tr>\n",
       "      <th>1</th>\n",
       "      <td>39.0</td>\n",
       "      <td>technician</td>\n",
       "      <td>divorced</td>\n",
       "      <td>2.0</td>\n",
       "      <td>no</td>\n",
       "      <td>688</td>\n",
       "      <td>yes</td>\n",
       "      <td>yes</td>\n",
       "      <td>cellular</td>\n",
       "      <td>1</td>\n",
       "      <td>4</td>\n",
       "      <td>233</td>\n",
       "      <td>2</td>\n",
       "      <td>133</td>\n",
       "      <td>1</td>\n",
       "      <td>failure</td>\n",
       "      <td>no</td>\n",
       "    </tr>\n",
       "    <tr>\n",
       "      <th>2</th>\n",
       "      <td>59.0</td>\n",
       "      <td>retired</td>\n",
       "      <td>married</td>\n",
       "      <td>2.0</td>\n",
       "      <td>no</td>\n",
       "      <td>1035</td>\n",
       "      <td>yes</td>\n",
       "      <td>yes</td>\n",
       "      <td>cellular</td>\n",
       "      <td>1</td>\n",
       "      <td>4</td>\n",
       "      <td>126</td>\n",
       "      <td>2</td>\n",
       "      <td>239</td>\n",
       "      <td>1</td>\n",
       "      <td>failure</td>\n",
       "      <td>no</td>\n",
       "    </tr>\n",
       "    <tr>\n",
       "      <th>3</th>\n",
       "      <td>47.0</td>\n",
       "      <td>blue-collar</td>\n",
       "      <td>married</td>\n",
       "      <td>2.0</td>\n",
       "      <td>no</td>\n",
       "      <td>398</td>\n",
       "      <td>yes</td>\n",
       "      <td>yes</td>\n",
       "      <td>cellular</td>\n",
       "      <td>1</td>\n",
       "      <td>4</td>\n",
       "      <td>274</td>\n",
       "      <td>1</td>\n",
       "      <td>238</td>\n",
       "      <td>2</td>\n",
       "      <td>failure</td>\n",
       "      <td>no</td>\n",
       "    </tr>\n",
       "    <tr>\n",
       "      <th>4</th>\n",
       "      <td>54.0</td>\n",
       "      <td>retired</td>\n",
       "      <td>married</td>\n",
       "      <td>2.0</td>\n",
       "      <td>no</td>\n",
       "      <td>1004</td>\n",
       "      <td>yes</td>\n",
       "      <td>no</td>\n",
       "      <td>cellular</td>\n",
       "      <td>1</td>\n",
       "      <td>4</td>\n",
       "      <td>479</td>\n",
       "      <td>1</td>\n",
       "      <td>307</td>\n",
       "      <td>1</td>\n",
       "      <td>failure</td>\n",
       "      <td>no</td>\n",
       "    </tr>\n",
       "  </tbody>\n",
       "</table>\n",
       "</div>"
      ],
      "text/plain": [
       "    age          job   marital  education default  balance housing loan  \\\n",
       "0  32.0   technician    single        3.0      no      392     yes   no   \n",
       "1  39.0   technician  divorced        2.0      no      688     yes  yes   \n",
       "2  59.0      retired   married        2.0      no     1035     yes  yes   \n",
       "3  47.0  blue-collar   married        2.0      no      398     yes  yes   \n",
       "4  54.0      retired   married        2.0      no     1004     yes   no   \n",
       "\n",
       "    contact  day  month  duration  campaign  pdays  previous poutcome  \\\n",
       "0  cellular    1      4       957         2    131         2  failure   \n",
       "1  cellular    1      4       233         2    133         1  failure   \n",
       "2  cellular    1      4       126         2    239         1  failure   \n",
       "3  cellular    1      4       274         1    238         2  failure   \n",
       "4  cellular    1      4       479         1    307         1  failure   \n",
       "\n",
       "  subscribed  \n",
       "0         no  \n",
       "1         no  \n",
       "2         no  \n",
       "3         no  \n",
       "4         no  "
      ]
     },
     "execution_count": 5,
     "metadata": {},
     "output_type": "execute_result"
    }
   ],
   "source": [
    "scale_mapper_month = {\n",
    "    \"jan\": 1,\n",
    "    \"feb\": 2,\n",
    "    \"mar\": 3,\n",
    "    \"apr\": 4,\n",
    "    \"may\": 5,\n",
    "    \"jun\": 6,\n",
    "    \"jul\": 7,\n",
    "    \"aug\": 8,\n",
    "    \"sep\": 9,\n",
    "    \"oct\": 10,\n",
    "    \"nov\": 11,\n",
    "    \"dec\": 12\n",
    "}\n",
    "\n",
    "df['month'] = df['month'].replace(scale_mapper_month)\n",
    "\n",
    "df.head()"
   ]
  },
  {
   "cell_type": "markdown",
   "id": "32ae94f2",
   "metadata": {},
   "source": [
    "### One-Hot Encode All Other Categorical Attributes"
   ]
  },
  {
   "cell_type": "markdown",
   "id": "66ef8ecb",
   "metadata": {},
   "source": [
    "We first one-hot encode the categorical variables with missing values NaNs: `poutcome`, `contact`, `job`."
   ]
  },
  {
   "cell_type": "code",
   "execution_count": 6,
   "id": "89f2520a",
   "metadata": {
    "scrolled": true
   },
   "outputs": [
    {
     "data": {
      "text/html": [
       "<div>\n",
       "<style scoped>\n",
       "    .dataframe tbody tr th:only-of-type {\n",
       "        vertical-align: middle;\n",
       "    }\n",
       "\n",
       "    .dataframe tbody tr th {\n",
       "        vertical-align: top;\n",
       "    }\n",
       "\n",
       "    .dataframe thead th {\n",
       "        text-align: right;\n",
       "    }\n",
       "</style>\n",
       "<table border=\"1\" class=\"dataframe\">\n",
       "  <thead>\n",
       "    <tr style=\"text-align: right;\">\n",
       "      <th></th>\n",
       "      <th>age</th>\n",
       "      <th>marital</th>\n",
       "      <th>education</th>\n",
       "      <th>default</th>\n",
       "      <th>balance</th>\n",
       "      <th>housing</th>\n",
       "      <th>loan</th>\n",
       "      <th>day</th>\n",
       "      <th>month</th>\n",
       "      <th>duration</th>\n",
       "      <th>...</th>\n",
       "      <th>job_entrepreneur</th>\n",
       "      <th>job_housemaid</th>\n",
       "      <th>job_management</th>\n",
       "      <th>job_retired</th>\n",
       "      <th>job_self-employed</th>\n",
       "      <th>job_services</th>\n",
       "      <th>job_student</th>\n",
       "      <th>job_technician</th>\n",
       "      <th>job_unemployed</th>\n",
       "      <th>job_nan</th>\n",
       "    </tr>\n",
       "  </thead>\n",
       "  <tbody>\n",
       "    <tr>\n",
       "      <th>1995</th>\n",
       "      <td>20.0</td>\n",
       "      <td>single</td>\n",
       "      <td>NaN</td>\n",
       "      <td>no</td>\n",
       "      <td>2785</td>\n",
       "      <td>no</td>\n",
       "      <td>no</td>\n",
       "      <td>16</td>\n",
       "      <td>9</td>\n",
       "      <td>327</td>\n",
       "      <td>...</td>\n",
       "      <td>0</td>\n",
       "      <td>0</td>\n",
       "      <td>0</td>\n",
       "      <td>0</td>\n",
       "      <td>0</td>\n",
       "      <td>0</td>\n",
       "      <td>1</td>\n",
       "      <td>0</td>\n",
       "      <td>0</td>\n",
       "      <td>0</td>\n",
       "    </tr>\n",
       "    <tr>\n",
       "      <th>1996</th>\n",
       "      <td>28.0</td>\n",
       "      <td>single</td>\n",
       "      <td>2.0</td>\n",
       "      <td>no</td>\n",
       "      <td>127</td>\n",
       "      <td>no</td>\n",
       "      <td>no</td>\n",
       "      <td>16</td>\n",
       "      <td>9</td>\n",
       "      <td>1334</td>\n",
       "      <td>...</td>\n",
       "      <td>0</td>\n",
       "      <td>0</td>\n",
       "      <td>0</td>\n",
       "      <td>0</td>\n",
       "      <td>0</td>\n",
       "      <td>0</td>\n",
       "      <td>0</td>\n",
       "      <td>0</td>\n",
       "      <td>0</td>\n",
       "      <td>0</td>\n",
       "    </tr>\n",
       "    <tr>\n",
       "      <th>1997</th>\n",
       "      <td>81.0</td>\n",
       "      <td>married</td>\n",
       "      <td>1.0</td>\n",
       "      <td>no</td>\n",
       "      <td>1154</td>\n",
       "      <td>no</td>\n",
       "      <td>no</td>\n",
       "      <td>17</td>\n",
       "      <td>9</td>\n",
       "      <td>231</td>\n",
       "      <td>...</td>\n",
       "      <td>0</td>\n",
       "      <td>0</td>\n",
       "      <td>0</td>\n",
       "      <td>1</td>\n",
       "      <td>0</td>\n",
       "      <td>0</td>\n",
       "      <td>0</td>\n",
       "      <td>0</td>\n",
       "      <td>0</td>\n",
       "      <td>0</td>\n",
       "    </tr>\n",
       "    <tr>\n",
       "      <th>1998</th>\n",
       "      <td>46.0</td>\n",
       "      <td>married</td>\n",
       "      <td>1.0</td>\n",
       "      <td>no</td>\n",
       "      <td>4343</td>\n",
       "      <td>yes</td>\n",
       "      <td>no</td>\n",
       "      <td>20</td>\n",
       "      <td>9</td>\n",
       "      <td>185</td>\n",
       "      <td>...</td>\n",
       "      <td>0</td>\n",
       "      <td>0</td>\n",
       "      <td>0</td>\n",
       "      <td>0</td>\n",
       "      <td>0</td>\n",
       "      <td>1</td>\n",
       "      <td>0</td>\n",
       "      <td>0</td>\n",
       "      <td>0</td>\n",
       "      <td>0</td>\n",
       "    </tr>\n",
       "    <tr>\n",
       "      <th>1999</th>\n",
       "      <td>40.0</td>\n",
       "      <td>married</td>\n",
       "      <td>2.0</td>\n",
       "      <td>no</td>\n",
       "      <td>6403</td>\n",
       "      <td>no</td>\n",
       "      <td>no</td>\n",
       "      <td>22</td>\n",
       "      <td>9</td>\n",
       "      <td>208</td>\n",
       "      <td>...</td>\n",
       "      <td>1</td>\n",
       "      <td>0</td>\n",
       "      <td>0</td>\n",
       "      <td>0</td>\n",
       "      <td>0</td>\n",
       "      <td>0</td>\n",
       "      <td>0</td>\n",
       "      <td>0</td>\n",
       "      <td>0</td>\n",
       "      <td>0</td>\n",
       "    </tr>\n",
       "  </tbody>\n",
       "</table>\n",
       "<p>5 rows × 30 columns</p>\n",
       "</div>"
      ],
      "text/plain": [
       "       age  marital  education default  balance housing loan  day  month  \\\n",
       "1995  20.0   single        NaN      no     2785      no   no   16      9   \n",
       "1996  28.0   single        2.0      no      127      no   no   16      9   \n",
       "1997  81.0  married        1.0      no     1154      no   no   17      9   \n",
       "1998  46.0  married        1.0      no     4343     yes   no   20      9   \n",
       "1999  40.0  married        2.0      no     6403      no   no   22      9   \n",
       "\n",
       "      duration  ...  job_entrepreneur  job_housemaid  job_management  \\\n",
       "1995       327  ...                 0              0               0   \n",
       "1996      1334  ...                 0              0               0   \n",
       "1997       231  ...                 0              0               0   \n",
       "1998       185  ...                 0              0               0   \n",
       "1999       208  ...                 1              0               0   \n",
       "\n",
       "     job_retired  job_self-employed  job_services  job_student  \\\n",
       "1995           0                  0             0            1   \n",
       "1996           0                  0             0            0   \n",
       "1997           1                  0             0            0   \n",
       "1998           0                  0             1            0   \n",
       "1999           0                  0             0            0   \n",
       "\n",
       "      job_technician  job_unemployed  job_nan  \n",
       "1995               0               0        0  \n",
       "1996               0               0        0  \n",
       "1997               0               0        0  \n",
       "1998               0               0        0  \n",
       "1999               0               0        0  \n",
       "\n",
       "[5 rows x 30 columns]"
      ]
     },
     "execution_count": 6,
     "metadata": {},
     "output_type": "execute_result"
    }
   ],
   "source": [
    "df = pd.get_dummies(df, columns=['poutcome', 'contact', 'job'], \n",
    "                        dummy_na=True, \n",
    "                        drop_first=True)\n",
    "df.tail()"
   ]
  },
  {
   "cell_type": "markdown",
   "id": "5fa9242b",
   "metadata": {},
   "source": [
    "Now we can proceed to encode the other categorical columns. "
   ]
  },
  {
   "cell_type": "code",
   "execution_count": 7,
   "id": "c2e2f4dd",
   "metadata": {},
   "outputs": [
    {
     "data": {
      "text/html": [
       "<div>\n",
       "<style scoped>\n",
       "    .dataframe tbody tr th:only-of-type {\n",
       "        vertical-align: middle;\n",
       "    }\n",
       "\n",
       "    .dataframe tbody tr th {\n",
       "        vertical-align: top;\n",
       "    }\n",
       "\n",
       "    .dataframe thead th {\n",
       "        text-align: right;\n",
       "    }\n",
       "</style>\n",
       "<table border=\"1\" class=\"dataframe\">\n",
       "  <thead>\n",
       "    <tr style=\"text-align: right;\">\n",
       "      <th></th>\n",
       "      <th>age</th>\n",
       "      <th>education</th>\n",
       "      <th>balance</th>\n",
       "      <th>day</th>\n",
       "      <th>month</th>\n",
       "      <th>duration</th>\n",
       "      <th>campaign</th>\n",
       "      <th>pdays</th>\n",
       "      <th>previous</th>\n",
       "      <th>poutcome_other</th>\n",
       "      <th>...</th>\n",
       "      <th>job_student</th>\n",
       "      <th>job_technician</th>\n",
       "      <th>job_unemployed</th>\n",
       "      <th>job_nan</th>\n",
       "      <th>marital_married</th>\n",
       "      <th>marital_single</th>\n",
       "      <th>default_yes</th>\n",
       "      <th>housing_yes</th>\n",
       "      <th>loan_yes</th>\n",
       "      <th>subscribed_yes</th>\n",
       "    </tr>\n",
       "  </thead>\n",
       "  <tbody>\n",
       "    <tr>\n",
       "      <th>0</th>\n",
       "      <td>32.0</td>\n",
       "      <td>3.0</td>\n",
       "      <td>392</td>\n",
       "      <td>1</td>\n",
       "      <td>4</td>\n",
       "      <td>957</td>\n",
       "      <td>2</td>\n",
       "      <td>131</td>\n",
       "      <td>2</td>\n",
       "      <td>0</td>\n",
       "      <td>...</td>\n",
       "      <td>0</td>\n",
       "      <td>1</td>\n",
       "      <td>0</td>\n",
       "      <td>0</td>\n",
       "      <td>0</td>\n",
       "      <td>1</td>\n",
       "      <td>0</td>\n",
       "      <td>1</td>\n",
       "      <td>0</td>\n",
       "      <td>0</td>\n",
       "    </tr>\n",
       "    <tr>\n",
       "      <th>1</th>\n",
       "      <td>39.0</td>\n",
       "      <td>2.0</td>\n",
       "      <td>688</td>\n",
       "      <td>1</td>\n",
       "      <td>4</td>\n",
       "      <td>233</td>\n",
       "      <td>2</td>\n",
       "      <td>133</td>\n",
       "      <td>1</td>\n",
       "      <td>0</td>\n",
       "      <td>...</td>\n",
       "      <td>0</td>\n",
       "      <td>1</td>\n",
       "      <td>0</td>\n",
       "      <td>0</td>\n",
       "      <td>0</td>\n",
       "      <td>0</td>\n",
       "      <td>0</td>\n",
       "      <td>1</td>\n",
       "      <td>1</td>\n",
       "      <td>0</td>\n",
       "    </tr>\n",
       "    <tr>\n",
       "      <th>2</th>\n",
       "      <td>59.0</td>\n",
       "      <td>2.0</td>\n",
       "      <td>1035</td>\n",
       "      <td>1</td>\n",
       "      <td>4</td>\n",
       "      <td>126</td>\n",
       "      <td>2</td>\n",
       "      <td>239</td>\n",
       "      <td>1</td>\n",
       "      <td>0</td>\n",
       "      <td>...</td>\n",
       "      <td>0</td>\n",
       "      <td>0</td>\n",
       "      <td>0</td>\n",
       "      <td>0</td>\n",
       "      <td>1</td>\n",
       "      <td>0</td>\n",
       "      <td>0</td>\n",
       "      <td>1</td>\n",
       "      <td>1</td>\n",
       "      <td>0</td>\n",
       "    </tr>\n",
       "    <tr>\n",
       "      <th>3</th>\n",
       "      <td>47.0</td>\n",
       "      <td>2.0</td>\n",
       "      <td>398</td>\n",
       "      <td>1</td>\n",
       "      <td>4</td>\n",
       "      <td>274</td>\n",
       "      <td>1</td>\n",
       "      <td>238</td>\n",
       "      <td>2</td>\n",
       "      <td>0</td>\n",
       "      <td>...</td>\n",
       "      <td>0</td>\n",
       "      <td>0</td>\n",
       "      <td>0</td>\n",
       "      <td>0</td>\n",
       "      <td>1</td>\n",
       "      <td>0</td>\n",
       "      <td>0</td>\n",
       "      <td>1</td>\n",
       "      <td>1</td>\n",
       "      <td>0</td>\n",
       "    </tr>\n",
       "    <tr>\n",
       "      <th>4</th>\n",
       "      <td>54.0</td>\n",
       "      <td>2.0</td>\n",
       "      <td>1004</td>\n",
       "      <td>1</td>\n",
       "      <td>4</td>\n",
       "      <td>479</td>\n",
       "      <td>1</td>\n",
       "      <td>307</td>\n",
       "      <td>1</td>\n",
       "      <td>0</td>\n",
       "      <td>...</td>\n",
       "      <td>0</td>\n",
       "      <td>0</td>\n",
       "      <td>0</td>\n",
       "      <td>0</td>\n",
       "      <td>1</td>\n",
       "      <td>0</td>\n",
       "      <td>0</td>\n",
       "      <td>1</td>\n",
       "      <td>0</td>\n",
       "      <td>0</td>\n",
       "    </tr>\n",
       "  </tbody>\n",
       "</table>\n",
       "<p>5 rows × 31 columns</p>\n",
       "</div>"
      ],
      "text/plain": [
       "    age  education  balance  day  month  duration  campaign  pdays  previous  \\\n",
       "0  32.0        3.0      392    1      4       957         2    131         2   \n",
       "1  39.0        2.0      688    1      4       233         2    133         1   \n",
       "2  59.0        2.0     1035    1      4       126         2    239         1   \n",
       "3  47.0        2.0      398    1      4       274         1    238         2   \n",
       "4  54.0        2.0     1004    1      4       479         1    307         1   \n",
       "\n",
       "   poutcome_other  ...  job_student  job_technician  job_unemployed  job_nan  \\\n",
       "0               0  ...            0               1               0        0   \n",
       "1               0  ...            0               1               0        0   \n",
       "2               0  ...            0               0               0        0   \n",
       "3               0  ...            0               0               0        0   \n",
       "4               0  ...            0               0               0        0   \n",
       "\n",
       "   marital_married  marital_single  default_yes  housing_yes  loan_yes  \\\n",
       "0                0               1            0            1         0   \n",
       "1                0               0            0            1         1   \n",
       "2                1               0            0            1         1   \n",
       "3                1               0            0            1         1   \n",
       "4                1               0            0            1         0   \n",
       "\n",
       "   subscribed_yes  \n",
       "0               0  \n",
       "1               0  \n",
       "2               0  \n",
       "3               0  \n",
       "4               0  \n",
       "\n",
       "[5 rows x 31 columns]"
      ]
     },
     "execution_count": 7,
     "metadata": {},
     "output_type": "execute_result"
    }
   ],
   "source": [
    "df = pd.get_dummies(df, drop_first=True)\n",
    "df.head()"
   ]
  },
  {
   "cell_type": "markdown",
   "id": "8922d430",
   "metadata": {},
   "source": [
    "The results of the encoding can be seen in the list of columns below, where each categorical variable is now represented by p-1 variables, where p is the number of levels."
   ]
  },
  {
   "cell_type": "code",
   "execution_count": 8,
   "id": "c00374fb",
   "metadata": {},
   "outputs": [
    {
     "data": {
      "text/plain": [
       "['age',\n",
       " 'education',\n",
       " 'balance',\n",
       " 'day',\n",
       " 'month',\n",
       " 'duration',\n",
       " 'campaign',\n",
       " 'pdays',\n",
       " 'previous',\n",
       " 'poutcome_other',\n",
       " 'poutcome_success',\n",
       " 'poutcome_nan',\n",
       " 'contact_telephone',\n",
       " 'contact_nan',\n",
       " 'job_blue-collar',\n",
       " 'job_entrepreneur',\n",
       " 'job_housemaid',\n",
       " 'job_management',\n",
       " 'job_retired',\n",
       " 'job_self-employed',\n",
       " 'job_services',\n",
       " 'job_student',\n",
       " 'job_technician',\n",
       " 'job_unemployed',\n",
       " 'job_nan',\n",
       " 'marital_married',\n",
       " 'marital_single',\n",
       " 'default_yes',\n",
       " 'housing_yes',\n",
       " 'loan_yes',\n",
       " 'subscribed_yes']"
      ]
     },
     "execution_count": 8,
     "metadata": {},
     "output_type": "execute_result"
    }
   ],
   "source": [
    "list(df.columns.values)"
   ]
  },
  {
   "cell_type": "markdown",
   "id": "eab1992c",
   "metadata": {},
   "source": [
    "## C. Treatment of Missing Values in Numerical Columns"
   ]
  },
  {
   "cell_type": "markdown",
   "id": "de59d538",
   "metadata": {},
   "source": [
    "### Check for Missing Values\n",
    "\n",
    "We impute missing values to support the development of an accurate model.\n",
    "\n",
    "The number of missing values is reported below. "
   ]
  },
  {
   "cell_type": "code",
   "execution_count": 9,
   "id": "02ea454d",
   "metadata": {},
   "outputs": [
    {
     "data": {
      "text/plain": [
       "age                   12\n",
       "education            104\n",
       "balance                0\n",
       "day                    0\n",
       "month                  0\n",
       "duration               0\n",
       "campaign               0\n",
       "pdays                  0\n",
       "previous               0\n",
       "poutcome_other         0\n",
       "poutcome_success       0\n",
       "poutcome_nan           0\n",
       "contact_telephone      0\n",
       "contact_nan            0\n",
       "job_blue-collar        0\n",
       "job_entrepreneur       0\n",
       "job_housemaid          0\n",
       "job_management         0\n",
       "job_retired            0\n",
       "job_self-employed      0\n",
       "job_services           0\n",
       "job_student            0\n",
       "job_technician         0\n",
       "job_unemployed         0\n",
       "job_nan                0\n",
       "marital_married        0\n",
       "marital_single         0\n",
       "default_yes            0\n",
       "housing_yes            0\n",
       "loan_yes               0\n",
       "subscribed_yes         0\n",
       "dtype: int64"
      ]
     },
     "execution_count": 9,
     "metadata": {},
     "output_type": "execute_result"
    }
   ],
   "source": [
    "df.isna().sum()"
   ]
  },
  {
   "cell_type": "markdown",
   "id": "5292935c",
   "metadata": {},
   "source": [
    "There are 12 missing values in the `age` column, which is less than 25% of the data. Thus not justifying the removal of the column. "
   ]
  },
  {
   "cell_type": "markdown",
   "id": "14b3d0b9",
   "metadata": {},
   "source": [
    "### Impute Missing Values"
   ]
  },
  {
   "cell_type": "markdown",
   "id": "2bc41c03",
   "metadata": {},
   "source": [
    "We impute the missing values for the `age` column using information from the `marital` status and `job` status. One could expect `job_retired` and `marital_single` to give a suitable esitmate of the `age` values, since age will differ greatly in these groups. "
   ]
  },
  {
   "cell_type": "code",
   "execution_count": 10,
   "id": "c4f1d807",
   "metadata": {},
   "outputs": [
    {
     "data": {
      "image/png": "[encoded data removed]",
      "text/plain": [
       "<Figure size 640x480 with 1 Axes>"
      ]
     },
     "metadata": {},
     "output_type": "display_data"
    }
   ],
   "source": [
    "df.boxplot(column='age', by=['marital_single','job_retired'], rot=45)\n",
    "plt.title(\"\")\n",
    "plt.show()"
   ]
  },
  {
   "cell_type": "markdown",
   "id": "9244092c",
   "metadata": {},
   "source": [
    "We see differences in the median `age` across groups, this median can be used to impute the missing values for `age`. We create a pivot table, and function to impute the `age` based on the values of `job_retired` and `marital_single`."
   ]
  },
  {
   "cell_type": "code",
   "execution_count": 11,
   "id": "374c7b16",
   "metadata": {},
   "outputs": [
    {
     "data": {
      "text/html": [
       "<div>\n",
       "<style scoped>\n",
       "    .dataframe tbody tr th:only-of-type {\n",
       "        vertical-align: middle;\n",
       "    }\n",
       "\n",
       "    .dataframe tbody tr th {\n",
       "        vertical-align: top;\n",
       "    }\n",
       "\n",
       "    .dataframe thead th {\n",
       "        text-align: right;\n",
       "    }\n",
       "</style>\n",
       "<table border=\"1\" class=\"dataframe\">\n",
       "  <thead>\n",
       "    <tr style=\"text-align: right;\">\n",
       "      <th>job_retired</th>\n",
       "      <th>0</th>\n",
       "      <th>1</th>\n",
       "    </tr>\n",
       "    <tr>\n",
       "      <th>marital_single</th>\n",
       "      <th></th>\n",
       "      <th></th>\n",
       "    </tr>\n",
       "  </thead>\n",
       "  <tbody>\n",
       "    <tr>\n",
       "      <th>0</th>\n",
       "      <td>42.0</td>\n",
       "      <td>67.0</td>\n",
       "    </tr>\n",
       "    <tr>\n",
       "      <th>1</th>\n",
       "      <td>31.0</td>\n",
       "      <td>60.5</td>\n",
       "    </tr>\n",
       "  </tbody>\n",
       "</table>\n",
       "</div>"
      ],
      "text/plain": [
       "job_retired        0     1\n",
       "marital_single            \n",
       "0               42.0  67.0\n",
       "1               31.0  60.5"
      ]
     },
     "execution_count": 11,
     "metadata": {},
     "output_type": "execute_result"
    }
   ],
   "source": [
    "ptable = df.pivot_table(values='age', \n",
    "                        index='marital_single',\n",
    "                        columns='job_retired',  \n",
    "                        aggfunc=np.median)\n",
    "ptable"
   ]
  },
  {
   "cell_type": "code",
   "execution_count": 12,
   "id": "200dfdc5",
   "metadata": {},
   "outputs": [],
   "source": [
    "def get_element(x):\n",
    "    return ptable.loc[x['marital_single'], x['job_retired']]\n",
    "\n",
    "# Replace missing values\n",
    "df['age'].fillna(df[df['age'].isnull()].apply(get_element, axis=1), inplace=True)"
   ]
  },
  {
   "cell_type": "markdown",
   "id": "b447ec72",
   "metadata": {},
   "source": [
    "We could use a machine learning algorithm to impute `education` on the basis of other columns.\n",
    "\n",
    "Lets explore the relationship between `education`, `management` and `single`.  We could hypothesise that management positions and relationship status could inform us of a persons education. "
   ]
  },
  {
   "cell_type": "code",
   "execution_count": 13,
   "id": "2973da4f",
   "metadata": {},
   "outputs": [
    {
     "data": {
      "text/html": [
       "<div>\n",
       "<style scoped>\n",
       "    .dataframe tbody tr th:only-of-type {\n",
       "        vertical-align: middle;\n",
       "    }\n",
       "\n",
       "    .dataframe tbody tr th {\n",
       "        vertical-align: top;\n",
       "    }\n",
       "\n",
       "    .dataframe thead th {\n",
       "        text-align: right;\n",
       "    }\n",
       "</style>\n",
       "<table border=\"1\" class=\"dataframe\">\n",
       "  <thead>\n",
       "    <tr style=\"text-align: right;\">\n",
       "      <th>marital_single</th>\n",
       "      <th>0</th>\n",
       "      <th>1</th>\n",
       "    </tr>\n",
       "    <tr>\n",
       "      <th>job_management</th>\n",
       "      <th></th>\n",
       "      <th></th>\n",
       "    </tr>\n",
       "  </thead>\n",
       "  <tbody>\n",
       "    <tr>\n",
       "      <th>0</th>\n",
       "      <td>2.0</td>\n",
       "      <td>2.0</td>\n",
       "    </tr>\n",
       "    <tr>\n",
       "      <th>1</th>\n",
       "      <td>3.0</td>\n",
       "      <td>3.0</td>\n",
       "    </tr>\n",
       "  </tbody>\n",
       "</table>\n",
       "</div>"
      ],
      "text/plain": [
       "marital_single    0    1\n",
       "job_management          \n",
       "0               2.0  2.0\n",
       "1               3.0  3.0"
      ]
     },
     "execution_count": 13,
     "metadata": {},
     "output_type": "execute_result"
    }
   ],
   "source": [
    "ptable = df.pivot_table(values='education', \n",
    "                        index='job_management',\n",
    "                        columns='marital_single',\n",
    "                        aggfunc=np.median)\n",
    "ptable"
   ]
  },
  {
   "cell_type": "markdown",
   "id": "ef4661c4",
   "metadata": {},
   "source": [
    "There is no apparent differences when we inclue `marital` status such as `single` or `married`, rather than proceeding with just `job_management` to predict `education`, and introducing bias and confounding. It is most suitable to use the median value for education to impute the missing values. "
   ]
  },
  {
   "cell_type": "code",
   "execution_count": 14,
   "id": "24459cb5",
   "metadata": {},
   "outputs": [],
   "source": [
    "df['education'].fillna(df['education'].median(), inplace=True)"
   ]
  },
  {
   "cell_type": "code",
   "execution_count": 15,
   "id": "40904a8b",
   "metadata": {},
   "outputs": [
    {
     "data": {
      "text/plain": [
       "age                  0\n",
       "education            0\n",
       "balance              0\n",
       "day                  0\n",
       "month                0\n",
       "duration             0\n",
       "campaign             0\n",
       "pdays                0\n",
       "previous             0\n",
       "poutcome_other       0\n",
       "poutcome_success     0\n",
       "poutcome_nan         0\n",
       "contact_telephone    0\n",
       "contact_nan          0\n",
       "job_blue-collar      0\n",
       "job_entrepreneur     0\n",
       "job_housemaid        0\n",
       "job_management       0\n",
       "job_retired          0\n",
       "job_self-employed    0\n",
       "job_services         0\n",
       "job_student          0\n",
       "job_technician       0\n",
       "job_unemployed       0\n",
       "job_nan              0\n",
       "marital_married      0\n",
       "marital_single       0\n",
       "default_yes          0\n",
       "housing_yes          0\n",
       "loan_yes             0\n",
       "subscribed_yes       0\n",
       "dtype: int64"
      ]
     },
     "execution_count": 15,
     "metadata": {},
     "output_type": "execute_result"
    }
   ],
   "source": [
    "df.isna().sum()"
   ]
  },
  {
   "cell_type": "markdown",
   "id": "34002f6f",
   "metadata": {},
   "source": [
    "There are now no missing values in this dataset. However, some missing values may not be marked as `NaN`, such as `-1` for `pdays` signifying the client was not previously contacted. We will look at this later, in section F."
   ]
  },
  {
   "cell_type": "markdown",
   "id": "94c09c3d",
   "metadata": {},
   "source": [
    "## D. Rescaling Features"
   ]
  },
  {
   "cell_type": "markdown",
   "id": "09f678a6",
   "metadata": {},
   "source": [
    "### D.1 Robust Scaling"
   ]
  },
  {
   "cell_type": "markdown",
   "id": "a434348f",
   "metadata": {},
   "source": [
    "We apply `RobustScaler` to `age`, `balance`, `duration` and `prevoius` to generalise the scales in the presence of outliers noted in Lab 1. `RobustScaler` transforms each value in a column by subtracting the median from it and then dividing by the interquartile range. We consider `days`, `month`, `pdays`, `education` and `campaign` later."
   ]
  },
  {
   "cell_type": "code",
   "execution_count": 16,
   "id": "9ec769e3",
   "metadata": {},
   "outputs": [],
   "source": [
    "robust_scaler = RobustScaler()\n",
    "df[['age',\n",
    "    'balance',  \n",
    "   'duration', 'previous']] = robust_scaler.fit_transform(df[['age',\n",
    "                                                    'balance',\n",
    "                                                 'duration', 'previous']])"
   ]
  },
  {
   "cell_type": "markdown",
   "id": "4e4aa893",
   "metadata": {},
   "source": [
    "### D.2 MinMax Scaling"
   ]
  },
  {
   "cell_type": "markdown",
   "id": "237ec2b5",
   "metadata": {},
   "source": [
    "#### `day`"
   ]
  },
  {
   "cell_type": "markdown",
   "id": "d8b9a06e",
   "metadata": {},
   "source": [
    "The `day` column has discrete values between 1-31. \n",
    "We can change this range to [0, 1] by using the MinMaxScaler. "
   ]
  },
  {
   "cell_type": "code",
   "execution_count": 17,
   "id": "43e26de9",
   "metadata": {},
   "outputs": [
    {
     "data": {
      "text/plain": [
       "8     204\n",
       "29    187\n",
       "2     156\n",
       "4     148\n",
       "5     104\n",
       "3      95\n",
       "28     92\n",
       "6      92\n",
       "13     68\n",
       "30     68\n",
       "17     66\n",
       "9      60\n",
       "16     55\n",
       "12     55\n",
       "14     54\n",
       "20     52\n",
       "15     46\n",
       "1      45\n",
       "26     37\n",
       "22     37\n",
       "27     33\n",
       "10     33\n",
       "23     33\n",
       "21     32\n",
       "11     28\n",
       "25     26\n",
       "18     24\n",
       "19     21\n",
       "7      19\n",
       "24     18\n",
       "31     12\n",
       "Name: day, dtype: int64"
      ]
     },
     "execution_count": 17,
     "metadata": {},
     "output_type": "execute_result"
    }
   ],
   "source": [
    "df['day'].value_counts()"
   ]
  },
  {
   "cell_type": "code",
   "execution_count": 18,
   "id": "fa4c7823",
   "metadata": {},
   "outputs": [],
   "source": [
    "df['day'] = (df['day']-1)/30\n"
   ]
  },
  {
   "cell_type": "code",
   "execution_count": 19,
   "id": "d58dcc52",
   "metadata": {},
   "outputs": [
    {
     "data": {
      "text/plain": [
       "count    2000.000000\n",
       "mean        0.428383\n",
       "std         0.323740\n",
       "min         0.000000\n",
       "25%         0.133333\n",
       "50%         0.366667\n",
       "75%         0.733333\n",
       "max         1.000000\n",
       "Name: day, dtype: float64"
      ]
     },
     "execution_count": 19,
     "metadata": {},
     "output_type": "execute_result"
    }
   ],
   "source": [
    "df['day'].describe()"
   ]
  },
  {
   "cell_type": "markdown",
   "id": "3e579c98",
   "metadata": {},
   "source": [
    "#### `month`"
   ]
  },
  {
   "cell_type": "markdown",
   "id": "ed8f2b27",
   "metadata": {},
   "source": [
    "Similarly, discrete `month` values lie between 1 and 12. We use the MinMaxScaler method to scale these values. "
   ]
  },
  {
   "cell_type": "code",
   "execution_count": 20,
   "id": "553f1fa4",
   "metadata": {},
   "outputs": [
    {
     "data": {
      "text/plain": [
       "2     404\n",
       "5     333\n",
       "1     245\n",
       "4     205\n",
       "7     167\n",
       "8     136\n",
       "9     134\n",
       "6     104\n",
       "10     93\n",
       "3      70\n",
       "11     68\n",
       "12     41\n",
       "Name: month, dtype: int64"
      ]
     },
     "execution_count": 20,
     "metadata": {},
     "output_type": "execute_result"
    }
   ],
   "source": [
    "df['month'].value_counts()"
   ]
  },
  {
   "cell_type": "code",
   "execution_count": 21,
   "id": "320416b1",
   "metadata": {},
   "outputs": [],
   "source": [
    "df['month'] = (df['month']-1)/11"
   ]
  },
  {
   "cell_type": "code",
   "execution_count": 22,
   "id": "be04142b",
   "metadata": {
    "scrolled": true
   },
   "outputs": [
    {
     "data": {
      "text/plain": [
       "count    2000.000000\n",
       "mean        0.363864\n",
       "std         0.279998\n",
       "min         0.000000\n",
       "25%         0.090909\n",
       "50%         0.363636\n",
       "75%         0.545455\n",
       "max         1.000000\n",
       "Name: month, dtype: float64"
      ]
     },
     "execution_count": 22,
     "metadata": {},
     "output_type": "execute_result"
    }
   ],
   "source": [
    "df['month'].describe()"
   ]
  },
  {
   "cell_type": "markdown",
   "id": "f2fb59ac",
   "metadata": {},
   "source": [
    "#### `campaign`"
   ]
  },
  {
   "cell_type": "markdown",
   "id": "d856df5e",
   "metadata": {},
   "source": [
    "The number of contacts during this campaign are discreet values, with few outliers. we will use the MaxMinScaler here. "
   ]
  },
  {
   "cell_type": "code",
   "execution_count": 23,
   "id": "548847b1",
   "metadata": {},
   "outputs": [
    {
     "data": {
      "text/plain": [
       "1     1063\n",
       "2      506\n",
       "3      219\n",
       "4       99\n",
       "5       50\n",
       "6       31\n",
       "7       17\n",
       "8        6\n",
       "9        5\n",
       "11       3\n",
       "10       1\n",
       "Name: campaign, dtype: int64"
      ]
     },
     "execution_count": 23,
     "metadata": {},
     "output_type": "execute_result"
    }
   ],
   "source": [
    "df['campaign'].value_counts()"
   ]
  },
  {
   "cell_type": "code",
   "execution_count": 24,
   "id": "bb713ef2",
   "metadata": {},
   "outputs": [],
   "source": [
    "df['campaign'] = (df['campaign']-1)/10"
   ]
  },
  {
   "cell_type": "code",
   "execution_count": 25,
   "id": "6dc3d14f",
   "metadata": {
    "scrolled": true
   },
   "outputs": [
    {
     "data": {
      "text/plain": [
       "count    2000.000000\n",
       "mean        0.090950\n",
       "std         0.137886\n",
       "min         0.000000\n",
       "25%         0.000000\n",
       "50%         0.000000\n",
       "75%         0.100000\n",
       "max         1.000000\n",
       "Name: campaign, dtype: float64"
      ]
     },
     "execution_count": 25,
     "metadata": {},
     "output_type": "execute_result"
    }
   ],
   "source": [
    "df['campaign'].describe()"
   ]
  },
  {
   "cell_type": "markdown",
   "id": "30d22da4",
   "metadata": {},
   "source": [
    "#### `education`"
   ]
  },
  {
   "cell_type": "markdown",
   "id": "d012bf83",
   "metadata": {},
   "source": [
    "We know education has values between 1 and 3. We can use the minmaxscaler to standardise these to between [0,1]"
   ]
  },
  {
   "cell_type": "code",
   "execution_count": 26,
   "id": "77c7c676",
   "metadata": {},
   "outputs": [
    {
     "data": {
      "text/plain": [
       "2.0    1099\n",
       "3.0     684\n",
       "1.0     217\n",
       "Name: education, dtype: int64"
      ]
     },
     "execution_count": 26,
     "metadata": {},
     "output_type": "execute_result"
    }
   ],
   "source": [
    "df['education'].value_counts()"
   ]
  },
  {
   "cell_type": "code",
   "execution_count": 27,
   "id": "e66738fb",
   "metadata": {},
   "outputs": [],
   "source": [
    "df['education'] = (df['education']-1)/2"
   ]
  },
  {
   "cell_type": "code",
   "execution_count": 28,
   "id": "7a676367",
   "metadata": {
    "scrolled": true
   },
   "outputs": [
    {
     "data": {
      "text/plain": [
       "0.5    1099\n",
       "1.0     684\n",
       "0.0     217\n",
       "Name: education, dtype: int64"
      ]
     },
     "execution_count": 28,
     "metadata": {},
     "output_type": "execute_result"
    }
   ],
   "source": [
    "df['education'].value_counts()"
   ]
  },
  {
   "cell_type": "code",
   "execution_count": 29,
   "id": "56e78665",
   "metadata": {},
   "outputs": [
    {
     "data": {
      "text/html": [
       "<div>\n",
       "<style scoped>\n",
       "    .dataframe tbody tr th:only-of-type {\n",
       "        vertical-align: middle;\n",
       "    }\n",
       "\n",
       "    .dataframe tbody tr th {\n",
       "        vertical-align: top;\n",
       "    }\n",
       "\n",
       "    .dataframe thead th {\n",
       "        text-align: right;\n",
       "    }\n",
       "</style>\n",
       "<table border=\"1\" class=\"dataframe\">\n",
       "  <thead>\n",
       "    <tr style=\"text-align: right;\">\n",
       "      <th></th>\n",
       "      <th>age</th>\n",
       "      <th>education</th>\n",
       "      <th>balance</th>\n",
       "      <th>day</th>\n",
       "      <th>month</th>\n",
       "      <th>duration</th>\n",
       "      <th>campaign</th>\n",
       "      <th>pdays</th>\n",
       "      <th>previous</th>\n",
       "      <th>poutcome_other</th>\n",
       "      <th>...</th>\n",
       "      <th>job_student</th>\n",
       "      <th>job_technician</th>\n",
       "      <th>job_unemployed</th>\n",
       "      <th>job_nan</th>\n",
       "      <th>marital_married</th>\n",
       "      <th>marital_single</th>\n",
       "      <th>default_yes</th>\n",
       "      <th>housing_yes</th>\n",
       "      <th>loan_yes</th>\n",
       "      <th>subscribed_yes</th>\n",
       "    </tr>\n",
       "  </thead>\n",
       "  <tbody>\n",
       "    <tr>\n",
       "      <th>count</th>\n",
       "      <td>2000.000000</td>\n",
       "      <td>2000.000000</td>\n",
       "      <td>2000.000000</td>\n",
       "      <td>2000.000000</td>\n",
       "      <td>2000.000000</td>\n",
       "      <td>2000.000000</td>\n",
       "      <td>2000.000000</td>\n",
       "      <td>2000.000000</td>\n",
       "      <td>2000.000000</td>\n",
       "      <td>2000.000000</td>\n",
       "      <td>...</td>\n",
       "      <td>2000.00000</td>\n",
       "      <td>2000.000000</td>\n",
       "      <td>2000.000000</td>\n",
       "      <td>2000.000000</td>\n",
       "      <td>2000.000000</td>\n",
       "      <td>2000.000000</td>\n",
       "      <td>2000.000000</td>\n",
       "      <td>2000.000000</td>\n",
       "      <td>2000.000000</td>\n",
       "      <td>2000.000000</td>\n",
       "    </tr>\n",
       "    <tr>\n",
       "      <th>mean</th>\n",
       "      <td>0.208056</td>\n",
       "      <td>0.616750</td>\n",
       "      <td>0.597826</td>\n",
       "      <td>0.428383</td>\n",
       "      <td>0.363864</td>\n",
       "      <td>0.240431</td>\n",
       "      <td>0.090950</td>\n",
       "      <td>167.896000</td>\n",
       "      <td>0.280750</td>\n",
       "      <td>0.073500</td>\n",
       "      <td>...</td>\n",
       "      <td>0.04800</td>\n",
       "      <td>0.174000</td>\n",
       "      <td>0.034500</td>\n",
       "      <td>0.005000</td>\n",
       "      <td>0.555500</td>\n",
       "      <td>0.337000</td>\n",
       "      <td>0.007500</td>\n",
       "      <td>0.481500</td>\n",
       "      <td>0.125000</td>\n",
       "      <td>0.500000</td>\n",
       "    </tr>\n",
       "    <tr>\n",
       "      <th>std</th>\n",
       "      <td>0.705988</td>\n",
       "      <td>0.314713</td>\n",
       "      <td>2.169941</td>\n",
       "      <td>0.323740</td>\n",
       "      <td>0.279998</td>\n",
       "      <td>0.950890</td>\n",
       "      <td>0.137886</td>\n",
       "      <td>131.754126</td>\n",
       "      <td>1.700368</td>\n",
       "      <td>0.261021</td>\n",
       "      <td>...</td>\n",
       "      <td>0.21382</td>\n",
       "      <td>0.379204</td>\n",
       "      <td>0.182555</td>\n",
       "      <td>0.070551</td>\n",
       "      <td>0.497034</td>\n",
       "      <td>0.472803</td>\n",
       "      <td>0.086299</td>\n",
       "      <td>0.499783</td>\n",
       "      <td>0.330802</td>\n",
       "      <td>0.500125</td>\n",
       "    </tr>\n",
       "    <tr>\n",
       "      <th>min</th>\n",
       "      <td>-1.111111</td>\n",
       "      <td>0.000000</td>\n",
       "      <td>-1.060984</td>\n",
       "      <td>0.000000</td>\n",
       "      <td>0.000000</td>\n",
       "      <td>-0.982833</td>\n",
       "      <td>0.000000</td>\n",
       "      <td>-1.000000</td>\n",
       "      <td>-1.000000</td>\n",
       "      <td>0.000000</td>\n",
       "      <td>...</td>\n",
       "      <td>0.00000</td>\n",
       "      <td>0.000000</td>\n",
       "      <td>0.000000</td>\n",
       "      <td>0.000000</td>\n",
       "      <td>0.000000</td>\n",
       "      <td>0.000000</td>\n",
       "      <td>0.000000</td>\n",
       "      <td>0.000000</td>\n",
       "      <td>0.000000</td>\n",
       "      <td>0.000000</td>\n",
       "    </tr>\n",
       "    <tr>\n",
       "      <th>25%</th>\n",
       "      <td>-0.333333</td>\n",
       "      <td>0.500000</td>\n",
       "      <td>-0.242204</td>\n",
       "      <td>0.133333</td>\n",
       "      <td>0.090909</td>\n",
       "      <td>-0.386266</td>\n",
       "      <td>0.000000</td>\n",
       "      <td>75.750000</td>\n",
       "      <td>-0.500000</td>\n",
       "      <td>0.000000</td>\n",
       "      <td>...</td>\n",
       "      <td>0.00000</td>\n",
       "      <td>0.000000</td>\n",
       "      <td>0.000000</td>\n",
       "      <td>0.000000</td>\n",
       "      <td>0.000000</td>\n",
       "      <td>0.000000</td>\n",
       "      <td>0.000000</td>\n",
       "      <td>0.000000</td>\n",
       "      <td>0.000000</td>\n",
       "      <td>0.000000</td>\n",
       "    </tr>\n",
       "    <tr>\n",
       "      <th>50%</th>\n",
       "      <td>0.000000</td>\n",
       "      <td>0.500000</td>\n",
       "      <td>0.000000</td>\n",
       "      <td>0.366667</td>\n",
       "      <td>0.363636</td>\n",
       "      <td>0.000000</td>\n",
       "      <td>0.000000</td>\n",
       "      <td>182.000000</td>\n",
       "      <td>0.000000</td>\n",
       "      <td>0.000000</td>\n",
       "      <td>...</td>\n",
       "      <td>0.00000</td>\n",
       "      <td>0.000000</td>\n",
       "      <td>0.000000</td>\n",
       "      <td>0.000000</td>\n",
       "      <td>1.000000</td>\n",
       "      <td>0.000000</td>\n",
       "      <td>0.000000</td>\n",
       "      <td>0.000000</td>\n",
       "      <td>0.000000</td>\n",
       "      <td>0.500000</td>\n",
       "    </tr>\n",
       "    <tr>\n",
       "      <th>75%</th>\n",
       "      <td>0.666667</td>\n",
       "      <td>1.000000</td>\n",
       "      <td>0.757796</td>\n",
       "      <td>0.733333</td>\n",
       "      <td>0.545455</td>\n",
       "      <td>0.613734</td>\n",
       "      <td>0.100000</td>\n",
       "      <td>251.000000</td>\n",
       "      <td>0.500000</td>\n",
       "      <td>0.000000</td>\n",
       "      <td>...</td>\n",
       "      <td>0.00000</td>\n",
       "      <td>0.000000</td>\n",
       "      <td>0.000000</td>\n",
       "      <td>0.000000</td>\n",
       "      <td>1.000000</td>\n",
       "      <td>1.000000</td>\n",
       "      <td>0.000000</td>\n",
       "      <td>1.000000</td>\n",
       "      <td>0.000000</td>\n",
       "      <td>1.000000</td>\n",
       "    </tr>\n",
       "    <tr>\n",
       "      <th>max</th>\n",
       "      <td>3.055556</td>\n",
       "      <td>1.000000</td>\n",
       "      <td>55.892585</td>\n",
       "      <td>1.000000</td>\n",
       "      <td>1.000000</td>\n",
       "      <td>6.811159</td>\n",
       "      <td>1.000000</td>\n",
       "      <td>854.000000</td>\n",
       "      <td>26.500000</td>\n",
       "      <td>1.000000</td>\n",
       "      <td>...</td>\n",
       "      <td>1.00000</td>\n",
       "      <td>1.000000</td>\n",
       "      <td>1.000000</td>\n",
       "      <td>1.000000</td>\n",
       "      <td>1.000000</td>\n",
       "      <td>1.000000</td>\n",
       "      <td>1.000000</td>\n",
       "      <td>1.000000</td>\n",
       "      <td>1.000000</td>\n",
       "      <td>1.000000</td>\n",
       "    </tr>\n",
       "  </tbody>\n",
       "</table>\n",
       "<p>8 rows × 31 columns</p>\n",
       "</div>"
      ],
      "text/plain": [
       "               age    education      balance          day        month  \\\n",
       "count  2000.000000  2000.000000  2000.000000  2000.000000  2000.000000   \n",
       "mean      0.208056     0.616750     0.597826     0.428383     0.363864   \n",
       "std       0.705988     0.314713     2.169941     0.323740     0.279998   \n",
       "min      -1.111111     0.000000    -1.060984     0.000000     0.000000   \n",
       "25%      -0.333333     0.500000    -0.242204     0.133333     0.090909   \n",
       "50%       0.000000     0.500000     0.000000     0.366667     0.363636   \n",
       "75%       0.666667     1.000000     0.757796     0.733333     0.545455   \n",
       "max       3.055556     1.000000    55.892585     1.000000     1.000000   \n",
       "\n",
       "          duration     campaign        pdays     previous  poutcome_other  \\\n",
       "count  2000.000000  2000.000000  2000.000000  2000.000000     2000.000000   \n",
       "mean      0.240431     0.090950   167.896000     0.280750        0.073500   \n",
       "std       0.950890     0.137886   131.754126     1.700368        0.261021   \n",
       "min      -0.982833     0.000000    -1.000000    -1.000000        0.000000   \n",
       "25%      -0.386266     0.000000    75.750000    -0.500000        0.000000   \n",
       "50%       0.000000     0.000000   182.000000     0.000000        0.000000   \n",
       "75%       0.613734     0.100000   251.000000     0.500000        0.000000   \n",
       "max       6.811159     1.000000   854.000000    26.500000        1.000000   \n",
       "\n",
       "       ...  job_student  job_technician  job_unemployed      job_nan  \\\n",
       "count  ...   2000.00000     2000.000000     2000.000000  2000.000000   \n",
       "mean   ...      0.04800        0.174000        0.034500     0.005000   \n",
       "std    ...      0.21382        0.379204        0.182555     0.070551   \n",
       "min    ...      0.00000        0.000000        0.000000     0.000000   \n",
       "25%    ...      0.00000        0.000000        0.000000     0.000000   \n",
       "50%    ...      0.00000        0.000000        0.000000     0.000000   \n",
       "75%    ...      0.00000        0.000000        0.000000     0.000000   \n",
       "max    ...      1.00000        1.000000        1.000000     1.000000   \n",
       "\n",
       "       marital_married  marital_single  default_yes  housing_yes     loan_yes  \\\n",
       "count      2000.000000     2000.000000  2000.000000  2000.000000  2000.000000   \n",
       "mean          0.555500        0.337000     0.007500     0.481500     0.125000   \n",
       "std           0.497034        0.472803     0.086299     0.499783     0.330802   \n",
       "min           0.000000        0.000000     0.000000     0.000000     0.000000   \n",
       "25%           0.000000        0.000000     0.000000     0.000000     0.000000   \n",
       "50%           1.000000        0.000000     0.000000     0.000000     0.000000   \n",
       "75%           1.000000        1.000000     0.000000     1.000000     0.000000   \n",
       "max           1.000000        1.000000     1.000000     1.000000     1.000000   \n",
       "\n",
       "       subscribed_yes  \n",
       "count     2000.000000  \n",
       "mean         0.500000  \n",
       "std          0.500125  \n",
       "min          0.000000  \n",
       "25%          0.000000  \n",
       "50%          0.500000  \n",
       "75%          1.000000  \n",
       "max          1.000000  \n",
       "\n",
       "[8 rows x 31 columns]"
      ]
     },
     "execution_count": 29,
     "metadata": {},
     "output_type": "execute_result"
    }
   ],
   "source": [
    "df.describe()"
   ]
  },
  {
   "cell_type": "markdown",
   "id": "db81723a",
   "metadata": {},
   "source": [
    "## E. Treatment of Outliers"
   ]
  },
  {
   "cell_type": "markdown",
   "id": "fd580c6e",
   "metadata": {},
   "source": [
    "####  `balance`,  `duration`, `previous` and `age`\n",
    "\n",
    "In Lab 1, we observed outliers in `balance`, `duration`, `previous` and `age`. These extreme values lead to skewed distributions affect the modelling process. We will investigate `pdays` later. "
   ]
  },
  {
   "cell_type": "code",
   "execution_count": 30,
   "id": "48bc806e",
   "metadata": {
    "scrolled": false
   },
   "outputs": [
    {
     "data": {
      "image/png": "[encoded data removed]",
      "text/plain": [
       "<Figure size 640x480 with 1 Axes>"
      ]
     },
     "metadata": {},
     "output_type": "display_data"
    }
   ],
   "source": [
    "df.boxplot(column=['age',\n",
    "    'balance',  \n",
    "    'duration',\n",
    "    'previous'])\n",
    "plt.show()"
   ]
  },
  {
   "cell_type": "markdown",
   "id": "925504af",
   "metadata": {},
   "source": [
    "We explore the histograms following scaling, these follow the same distribution as the original variables in Lab1, however the range is more compact. "
   ]
  },
  {
   "cell_type": "code",
   "execution_count": 31,
   "id": "0d579317",
   "metadata": {},
   "outputs": [
    {
     "data": {
      "image/png": "[encoded data removed]",
      "text/plain": [
       "<Figure size 1600x800 with 2 Axes>"
      ]
     },
     "metadata": {},
     "output_type": "display_data"
    }
   ],
   "source": [
    "# Create figure with two subplots\n",
    "fig = plt.figure(figsize=(16,8))\n",
    "\n",
    "# Plot balance\n",
    "ax1 = fig.add_subplot(1, 2, 1)\n",
    "ax1.set_title(\"Histogram of Balance\")\n",
    "ax1.set_xlabel('Balance')\n",
    "ax1.set_ylabel('Number of Clients')\n",
    "df['balance'].hist(bins=20)\n",
    "\n",
    "# Plot age\n",
    "ax3 = fig.add_subplot(1, 2, 2)\n",
    "ax3.set_title(\"Histogram of Age\")\n",
    "ax3.set_xlabel('Age')\n",
    "ax3.set_ylabel('Number of Clients')\n",
    "df['age'].hist(bins=20)\n",
    "\n",
    "plt.show()"
   ]
  },
  {
   "cell_type": "markdown",
   "id": "1c2115fe",
   "metadata": {},
   "source": [
    "Both histograms are right skewed due to outliers, this is not ideal for the ML algorithms. \n",
    "Balance has many extreme outliers, which is common when we deal with monetary data."
   ]
  },
  {
   "cell_type": "code",
   "execution_count": 32,
   "id": "23662f35",
   "metadata": {},
   "outputs": [
    {
     "data": {
      "image/png": "[encoded data removed]",
      "text/plain": [
       "<Figure size 1600x800 with 2 Axes>"
      ]
     },
     "metadata": {},
     "output_type": "display_data"
    }
   ],
   "source": [
    "# Create figure with two subplots\n",
    "fig = plt.figure(figsize=(16,8))\n",
    "\n",
    "# Plot duration\n",
    "ax1 = fig.add_subplot(1, 2, 1)\n",
    "ax1.set_title(\"Histogram of Duration\")\n",
    "ax1.set_xlabel('Duration of Last Contact (seconds)')\n",
    "ax1.set_ylabel('Number of Clients')\n",
    "df['duration'].hist(bins=20)\n",
    "\n",
    "# Plot previous\n",
    "ax3 = fig.add_subplot(1, 2, 2)\n",
    "ax3.set_title(\"Histogram of Previous\")\n",
    "ax3.set_xlabel('Number of Previous Contacts for this Client')\n",
    "ax3.set_ylabel('Number of Clients')\n",
    "df['previous'].hist(bins=20)\n",
    "\n",
    "plt.show()"
   ]
  },
  {
   "cell_type": "markdown",
   "id": "36d1795e",
   "metadata": {},
   "source": [
    "The distribution of previous does not appear to be normally distributed, and is very right skewed. Similary, the distribution of the number of previous contacts is right skewed. \n",
    "\n",
    "The scaled numeric variables are clearly right skewed and will need to be investigated before modelling. \n",
    "\n",
    "We invesitgate the minimum values in these columns."
   ]
  },
  {
   "cell_type": "code",
   "execution_count": 33,
   "id": "cafa701e",
   "metadata": {},
   "outputs": [
    {
     "data": {
      "text/plain": [
       "age        -1.111111\n",
       "balance    -1.060984\n",
       "duration   -0.982833\n",
       "previous   -1.000000\n",
       "dtype: float64"
      ]
     },
     "execution_count": 33,
     "metadata": {},
     "output_type": "execute_result"
    }
   ],
   "source": [
    "df[['age',\n",
    "    'balance',  \n",
    "    'duration',\n",
    "    'previous']].min()"
   ]
  },
  {
   "cell_type": "markdown",
   "id": "cdaab578",
   "metadata": {},
   "source": [
    "Extreme values are possible for all columns together, for example, a person with a low age may have a low account balance. Similarly, a person who was contacted many times prior to this campaign, may have a long phone call duration for their most recent call.\n",
    "\n",
    "To reduce the impact of outliers, we will apply a log transformation to the data. To ensure valid log values, we must shift each variable to the interval $[1, +\\infty]$ before applying the log transformation.\n"
   ]
  },
  {
   "cell_type": "code",
   "execution_count": 34,
   "id": "f910d1f5",
   "metadata": {},
   "outputs": [],
   "source": [
    "# Use a log transformation to decrease the impact of outliers\n",
    "df['age'] = np.log(df['age'] + abs(min(df['age'])) + 1)\n",
    "df['balance'] = np.log(df['balance'] + abs(min(df['balance'])) + 1)\n",
    "df['duration'] = np.log(df['duration'] + abs(min(df['duration'])) + 1)\n",
    "df['previous'] = np.log(df['previous'] + abs(min(df['previous'])) + 1)"
   ]
  },
  {
   "cell_type": "markdown",
   "id": "631fd2c0",
   "metadata": {},
   "source": [
    "We can now re-plot the values of `age`, `balance`, `duration`, and `previous`. "
   ]
  },
  {
   "cell_type": "code",
   "execution_count": 35,
   "id": "0807cff3",
   "metadata": {},
   "outputs": [
    {
     "data": {
      "image/png": "[encoded data removed]",
      "text/plain": [
       "<Figure size 1600x800 with 2 Axes>"
      ]
     },
     "metadata": {},
     "output_type": "display_data"
    }
   ],
   "source": [
    "# Create figure with two subplots\n",
    "fig = plt.figure(figsize=(16,8))\n",
    "\n",
    "# Plot balance\n",
    "ax1 = fig.add_subplot(1, 2, 1)\n",
    "ax1.set_title(\"Histogram of Balance Transformed\")\n",
    "ax1.set_xlabel('Balance')\n",
    "ax1.set_ylabel('Number of Clients')\n",
    "df['balance'].hist(bins=20)\n",
    "\n",
    "# Plot age\n",
    "ax3 = fig.add_subplot(1, 2, 2)\n",
    "ax3.set_title(\"Histogram of Age Transformed\")\n",
    "ax3.set_xlabel('Age')\n",
    "ax3.set_ylabel('Number of Clients')\n",
    "df['age'].hist(bins=20)\n",
    "\n",
    "plt.show()"
   ]
  },
  {
   "cell_type": "code",
   "execution_count": 36,
   "id": "f76d8978",
   "metadata": {},
   "outputs": [
    {
     "data": {
      "image/png": "[encoded data removed]",
      "text/plain": [
       "<Figure size 1600x800 with 2 Axes>"
      ]
     },
     "metadata": {},
     "output_type": "display_data"
    }
   ],
   "source": [
    "# Create figure with two subplots\n",
    "fig = plt.figure(figsize=(16,8))\n",
    "\n",
    "# Plot duration\n",
    "ax1 = fig.add_subplot(1, 2, 1)\n",
    "ax1.set_title(\"Histogram of Duration Transformed\")\n",
    "ax1.set_xlabel('Duration of Last Contact (seconds)')\n",
    "ax1.set_ylabel('Number of Clients')\n",
    "df['duration'].hist(bins=20)\n",
    "\n",
    "# Plot pdays\n",
    "ax3 = fig.add_subplot(1, 2, 2)\n",
    "ax3.set_title(\"Histogram of Contacts prior to this Campaign\")\n",
    "ax3.set_xlabel('Number of Contacts')\n",
    "ax3.set_ylabel('Number of Clients')\n",
    "df['previous'].hist(bins=20)\n",
    "\n",
    "plt.show()"
   ]
  },
  {
   "cell_type": "markdown",
   "id": "313c64fd",
   "metadata": {},
   "source": [
    "The histograms appear to be less skewed, with `balance`, `age`, and `duration` approximately normally distributed. We will investigate `previous` further. "
   ]
  },
  {
   "cell_type": "markdown",
   "id": "c4f701b7",
   "metadata": {},
   "source": [
    "## F. Creation of Derived Features"
   ]
  },
  {
   "cell_type": "markdown",
   "id": "ee9708bc",
   "metadata": {},
   "source": [
    "### F.1 1 pdays"
   ]
  },
  {
   "cell_type": "markdown",
   "id": "f5bc3b57",
   "metadata": {},
   "source": [
    "The column `pdays` contains the number of days since last contacted. There are many values with `-1`, signifying the client was not previously contacted. These skew the features towards zero which is not easily resolved by the log transformation. "
   ]
  },
  {
   "cell_type": "code",
   "execution_count": 37,
   "id": "9882764d",
   "metadata": {
    "scrolled": false
   },
   "outputs": [
    {
     "data": {
      "image/png": "[encoded data removed]",
      "text/plain": [
       "<Figure size 640x480 with 1 Axes>"
      ]
     },
     "metadata": {},
     "output_type": "display_data"
    }
   ],
   "source": [
    "df['pdays'].hist(bins=20)\n",
    "plt.show()"
   ]
  },
  {
   "cell_type": "code",
   "execution_count": 38,
   "id": "1667c595",
   "metadata": {},
   "outputs": [
    {
     "data": {
      "image/png": "[encoded data removed]",
      "text/plain": [
       "<Figure size 640x480 with 1 Axes>"
      ]
     },
     "metadata": {},
     "output_type": "display_data"
    }
   ],
   "source": [
    "np.log(df['pdays']+2).hist(bins=20)\n",
    "plt.show()"
   ]
  },
  {
   "cell_type": "markdown",
   "id": "bf63791c",
   "metadata": {},
   "source": [
    "We can see the log transformation just made the problem worse, we will investigate the similar feature `previous` to explore a solution. "
   ]
  },
  {
   "cell_type": "code",
   "execution_count": 39,
   "id": "a9f5c50e",
   "metadata": {},
   "outputs": [
    {
     "data": {
      "text/plain": [
       "454"
      ]
     },
     "execution_count": 39,
     "metadata": {},
     "output_type": "execute_result"
    }
   ],
   "source": [
    "(df_original['pdays'] == -1).sum()"
   ]
  },
  {
   "cell_type": "markdown",
   "id": "525911b0",
   "metadata": {},
   "source": [
    "There are 454 instances where the client was not previously contacted. This information is also availible in the `previous` variable, where no previous contacts were made."
   ]
  },
  {
   "cell_type": "code",
   "execution_count": 40,
   "id": "0995a57f",
   "metadata": {},
   "outputs": [
    {
     "data": {
      "text/plain": [
       "454"
      ]
     },
     "execution_count": 40,
     "metadata": {},
     "output_type": "execute_result"
    }
   ],
   "source": [
    "(df_original['previous'] == 0).sum()"
   ]
  },
  {
   "cell_type": "markdown",
   "id": "13d98471",
   "metadata": {},
   "source": [
    "Let's confirm that these are the same rows, by checking the values of pdays when no previous campaigns were made. "
   ]
  },
  {
   "cell_type": "code",
   "execution_count": 41,
   "id": "ba68ab56",
   "metadata": {},
   "outputs": [
    {
     "data": {
      "text/plain": [
       "-1    454\n",
       "Name: pdays, dtype: int64"
      ]
     },
     "execution_count": 41,
     "metadata": {},
     "output_type": "execute_result"
    }
   ],
   "source": [
    "frequency_table = df_original[df_original['previous'] == 0]['pdays'].value_counts(dropna=False)\n",
    "frequency_table"
   ]
  },
  {
   "cell_type": "markdown",
   "id": "aa5c696b",
   "metadata": {},
   "source": [
    "We can proceed by:\n",
    "* defining a binary variable `previous_contact_no`, which is 1 if the value of `previous` is 0. \n",
    "* defining a new variable `contact_by_pdays`, which is the feature `pdays` multiplied by `previous`. This should aleviate the skewness.\n",
    "* dropping the variable `pdays` as it can be calculated using other features."
   ]
  },
  {
   "cell_type": "code",
   "execution_count": 42,
   "id": "e4d404a3",
   "metadata": {},
   "outputs": [],
   "source": [
    "df['previous_contact_no'] = np.where(df['pdays'] == -1, 1, 0)"
   ]
  },
  {
   "cell_type": "code",
   "execution_count": 43,
   "id": "4888393b",
   "metadata": {},
   "outputs": [
    {
     "data": {
      "text/plain": [
       "contact_by_pdays   -0.625328\n",
       "dtype: float64"
      ]
     },
     "execution_count": 43,
     "metadata": {},
     "output_type": "execute_result"
    }
   ],
   "source": [
    "df['contact_by_pdays'] = df_original['previous']*df['pdays']\n",
    "df[['contact_by_pdays']] = robust_scaler.fit_transform(df[['contact_by_pdays']])\n",
    "df[['contact_by_pdays']].min()"
   ]
  },
  {
   "cell_type": "code",
   "execution_count": 44,
   "id": "f0b8bbb4",
   "metadata": {},
   "outputs": [],
   "source": [
    "df['contact_by_pdays'] = np.log(df['contact_by_pdays']+1.7)"
   ]
  },
  {
   "cell_type": "code",
   "execution_count": 45,
   "id": "9bf30650",
   "metadata": {},
   "outputs": [
    {
     "data": {
      "image/png": "[encoded data removed]",
      "text/plain": [
       "<Figure size 640x480 with 1 Axes>"
      ]
     },
     "metadata": {},
     "output_type": "display_data"
    }
   ],
   "source": [
    "df['contact_by_pdays'].hist(bins=20)\n",
    "plt.show()"
   ]
  },
  {
   "cell_type": "markdown",
   "id": "8084c175",
   "metadata": {},
   "source": [
    "The distribution of `contact_by_pdays` is still right skewed with many values at 0, however it is an improvement from `pdays`."
   ]
  },
  {
   "cell_type": "code",
   "execution_count": 46,
   "id": "f0fcc1fc",
   "metadata": {},
   "outputs": [],
   "source": [
    "df.drop('pdays', axis=1, inplace=True)"
   ]
  },
  {
   "cell_type": "markdown",
   "id": "a5d53217",
   "metadata": {},
   "source": [
    "### F.2 TotalContact\n"
   ]
  },
  {
   "cell_type": "markdown",
   "id": "88681696",
   "metadata": {},
   "source": [
    "We have information on the number of contacts during this campaign, `campaign`, and the number of contacts prior to this campaign, `previous`. These are both right skewed distributions, we will combine these to form `total_contacts` and drop `previous` as it contains many outliers and is most skewed towards 0. "
   ]
  },
  {
   "cell_type": "code",
   "execution_count": 47,
   "id": "ccbf3360",
   "metadata": {},
   "outputs": [
    {
     "data": {
      "image/png": "[encoded data removed]",
      "text/plain": [
       "<Figure size 1600x800 with 2 Axes>"
      ]
     },
     "metadata": {},
     "output_type": "display_data"
    }
   ],
   "source": [
    "# Create figure with two subplots\n",
    "fig = plt.figure(figsize=(16,8))\n",
    "\n",
    "# Plot campaign\n",
    "ax1 = fig.add_subplot(1, 2, 1)\n",
    "ax1.set_title(\"Histogram of Contacts in Current Campaign\")\n",
    "ax1.set_xlabel('Number of Contacts')\n",
    "ax1.set_ylabel('Number of Clients')\n",
    "df['campaign'].hist(bins=20)\n",
    "\n",
    "# Plot previous\n",
    "ax3 = fig.add_subplot(1, 2, 2)\n",
    "ax3.set_title(\"Histogram of Contacts in Previous Campaign\")\n",
    "ax3.set_xlabel('Number of Contacts')\n",
    "ax3.set_ylabel('Number of Clients')\n",
    "df['previous'].hist(bins=20)\n",
    "\n",
    "plt.show()"
   ]
  },
  {
   "cell_type": "markdown",
   "id": "770fc9af",
   "metadata": {},
   "source": [
    "We see both distributions of `campaign` and `previous` are skewed. We combine them to form `total_contacts` using by adding them. "
   ]
  },
  {
   "cell_type": "code",
   "execution_count": 48,
   "id": "29928bf2",
   "metadata": {},
   "outputs": [
    {
     "data": {
      "image/png": "[encoded data removed]",
      "text/plain": [
       "<Figure size 640x480 with 1 Axes>"
      ]
     },
     "metadata": {},
     "output_type": "display_data"
    }
   ],
   "source": [
    "np.log(df['previous']+1).hist(bins=20)\n",
    "plt.show()"
   ]
  },
  {
   "cell_type": "markdown",
   "id": "9b77c80a",
   "metadata": {},
   "source": [
    "We see the log transformed distribution of `previous` is still right skewed, and not normally distributed, with many values at 0. We aleviate this by creating `total_contact`, scaling it with the robust scaler, fitting a log transform, and dropping `previous`. "
   ]
  },
  {
   "cell_type": "code",
   "execution_count": 49,
   "id": "c75b1969",
   "metadata": {},
   "outputs": [
    {
     "data": {
      "text/plain": [
       "total_contact   -0.666667\n",
       "dtype: float64"
      ]
     },
     "execution_count": 49,
     "metadata": {},
     "output_type": "execute_result"
    }
   ],
   "source": [
    "df['total_contact'] = df_original['previous'] + df_original['campaign']\n",
    "df[['total_contact']] = robust_scaler.fit_transform(df[['total_contact']])\n",
    "df[['total_contact']].min()"
   ]
  },
  {
   "cell_type": "code",
   "execution_count": 50,
   "id": "f37e5612",
   "metadata": {},
   "outputs": [],
   "source": [
    "df['total_contact'] = np.log(df['total_contact']+1.7)"
   ]
  },
  {
   "cell_type": "code",
   "execution_count": 51,
   "id": "11a11e35",
   "metadata": {},
   "outputs": [
    {
     "data": {
      "image/png": "[encoded data removed]",
      "text/plain": [
       "<Figure size 640x480 with 1 Axes>"
      ]
     },
     "metadata": {},
     "output_type": "display_data"
    }
   ],
   "source": [
    "df['total_contact'].hist(bins=15)\n",
    "plt.show()"
   ]
  },
  {
   "cell_type": "markdown",
   "id": "2b9ead7a",
   "metadata": {},
   "source": [
    "There is some resolution of the skewness when we visualise `total_contact` compared to the individual `previous` contact numbers. This distribution is more approximately normal. We now drop `previous` from the analysis. "
   ]
  },
  {
   "cell_type": "code",
   "execution_count": 52,
   "id": "d4d72ca1",
   "metadata": {},
   "outputs": [],
   "source": [
    "df.drop('previous', axis=1, inplace=True)"
   ]
  },
  {
   "cell_type": "markdown",
   "id": "a22fbc0d",
   "metadata": {},
   "source": [
    "# G. Save the Prepared Dataset"
   ]
  },
  {
   "cell_type": "markdown",
   "id": "aa27a224",
   "metadata": {},
   "source": [
    "A final review of the dataset. "
   ]
  },
  {
   "cell_type": "code",
   "execution_count": 53,
   "id": "b91830f4",
   "metadata": {},
   "outputs": [
    {
     "data": {
      "text/plain": [
       "age                    0\n",
       "education              0\n",
       "balance                0\n",
       "day                    0\n",
       "month                  0\n",
       "duration               0\n",
       "campaign               0\n",
       "poutcome_other         0\n",
       "poutcome_success       0\n",
       "poutcome_nan           0\n",
       "contact_telephone      0\n",
       "contact_nan            0\n",
       "job_blue-collar        0\n",
       "job_entrepreneur       0\n",
       "job_housemaid          0\n",
       "job_management         0\n",
       "job_retired            0\n",
       "job_self-employed      0\n",
       "job_services           0\n",
       "job_student            0\n",
       "job_technician         0\n",
       "job_unemployed         0\n",
       "job_nan                0\n",
       "marital_married        0\n",
       "marital_single         0\n",
       "default_yes            0\n",
       "housing_yes            0\n",
       "loan_yes               0\n",
       "subscribed_yes         0\n",
       "previous_contact_no    0\n",
       "contact_by_pdays       0\n",
       "total_contact          0\n",
       "dtype: int64"
      ]
     },
     "execution_count": 53,
     "metadata": {},
     "output_type": "execute_result"
    }
   ],
   "source": [
    "df.isna().sum()"
   ]
  },
  {
   "cell_type": "code",
   "execution_count": 54,
   "id": "a8dffe57",
   "metadata": {},
   "outputs": [
    {
     "data": {
      "text/html": [
       "<div>\n",
       "<style scoped>\n",
       "    .dataframe tbody tr th:only-of-type {\n",
       "        vertical-align: middle;\n",
       "    }\n",
       "\n",
       "    .dataframe tbody tr th {\n",
       "        vertical-align: top;\n",
       "    }\n",
       "\n",
       "    .dataframe thead th {\n",
       "        text-align: right;\n",
       "    }\n",
       "</style>\n",
       "<table border=\"1\" class=\"dataframe\">\n",
       "  <thead>\n",
       "    <tr style=\"text-align: right;\">\n",
       "      <th></th>\n",
       "      <th>age</th>\n",
       "      <th>education</th>\n",
       "      <th>balance</th>\n",
       "      <th>day</th>\n",
       "      <th>month</th>\n",
       "      <th>duration</th>\n",
       "      <th>campaign</th>\n",
       "      <th>poutcome_other</th>\n",
       "      <th>poutcome_success</th>\n",
       "      <th>poutcome_nan</th>\n",
       "      <th>...</th>\n",
       "      <th>job_nan</th>\n",
       "      <th>marital_married</th>\n",
       "      <th>marital_single</th>\n",
       "      <th>default_yes</th>\n",
       "      <th>housing_yes</th>\n",
       "      <th>loan_yes</th>\n",
       "      <th>subscribed_yes</th>\n",
       "      <th>previous_contact_no</th>\n",
       "      <th>contact_by_pdays</th>\n",
       "      <th>total_contact</th>\n",
       "    </tr>\n",
       "  </thead>\n",
       "  <tbody>\n",
       "    <tr>\n",
       "      <th>count</th>\n",
       "      <td>2000.000000</td>\n",
       "      <td>2000.000000</td>\n",
       "      <td>2000.000000</td>\n",
       "      <td>2000.000000</td>\n",
       "      <td>2000.000000</td>\n",
       "      <td>2000.000000</td>\n",
       "      <td>2000.000000</td>\n",
       "      <td>2000.000000</td>\n",
       "      <td>2000.000000</td>\n",
       "      <td>2000.000000</td>\n",
       "      <td>...</td>\n",
       "      <td>2000.000000</td>\n",
       "      <td>2000.000000</td>\n",
       "      <td>2000.000000</td>\n",
       "      <td>2000.000000</td>\n",
       "      <td>2000.000000</td>\n",
       "      <td>2000.000000</td>\n",
       "      <td>2000.000000</td>\n",
       "      <td>2000.000000</td>\n",
       "      <td>2000.000000</td>\n",
       "      <td>2000.000000</td>\n",
       "    </tr>\n",
       "    <tr>\n",
       "      <th>mean</th>\n",
       "      <td>0.797573</td>\n",
       "      <td>0.616750</td>\n",
       "      <td>0.864354</td>\n",
       "      <td>0.428383</td>\n",
       "      <td>0.363864</td>\n",
       "      <td>0.726829</td>\n",
       "      <td>0.090950</td>\n",
       "      <td>0.073500</td>\n",
       "      <td>0.222000</td>\n",
       "      <td>0.227000</td>\n",
       "      <td>...</td>\n",
       "      <td>0.005000</td>\n",
       "      <td>0.555500</td>\n",
       "      <td>0.337000</td>\n",
       "      <td>0.007500</td>\n",
       "      <td>0.481500</td>\n",
       "      <td>0.125000</td>\n",
       "      <td>0.500000</td>\n",
       "      <td>0.227000</td>\n",
       "      <td>0.566892</td>\n",
       "      <td>0.672510</td>\n",
       "    </tr>\n",
       "    <tr>\n",
       "      <th>std</th>\n",
       "      <td>0.293027</td>\n",
       "      <td>0.314713</td>\n",
       "      <td>0.403068</td>\n",
       "      <td>0.323740</td>\n",
       "      <td>0.279998</td>\n",
       "      <td>0.365006</td>\n",
       "      <td>0.137886</td>\n",
       "      <td>0.261021</td>\n",
       "      <td>0.415695</td>\n",
       "      <td>0.418997</td>\n",
       "      <td>...</td>\n",
       "      <td>0.070551</td>\n",
       "      <td>0.497034</td>\n",
       "      <td>0.472803</td>\n",
       "      <td>0.086299</td>\n",
       "      <td>0.499783</td>\n",
       "      <td>0.330802</td>\n",
       "      <td>0.500125</td>\n",
       "      <td>0.418997</td>\n",
       "      <td>0.432449</td>\n",
       "      <td>0.445184</td>\n",
       "    </tr>\n",
       "    <tr>\n",
       "      <th>min</th>\n",
       "      <td>0.000000</td>\n",
       "      <td>0.000000</td>\n",
       "      <td>0.000000</td>\n",
       "      <td>0.000000</td>\n",
       "      <td>0.000000</td>\n",
       "      <td>0.000000</td>\n",
       "      <td>0.000000</td>\n",
       "      <td>0.000000</td>\n",
       "      <td>0.000000</td>\n",
       "      <td>0.000000</td>\n",
       "      <td>...</td>\n",
       "      <td>0.000000</td>\n",
       "      <td>0.000000</td>\n",
       "      <td>0.000000</td>\n",
       "      <td>0.000000</td>\n",
       "      <td>0.000000</td>\n",
       "      <td>0.000000</td>\n",
       "      <td>0.000000</td>\n",
       "      <td>0.000000</td>\n",
       "      <td>0.072016</td>\n",
       "      <td>0.032790</td>\n",
       "    </tr>\n",
       "    <tr>\n",
       "      <th>25%</th>\n",
       "      <td>0.575364</td>\n",
       "      <td>0.500000</td>\n",
       "      <td>0.598166</td>\n",
       "      <td>0.133333</td>\n",
       "      <td>0.090909</td>\n",
       "      <td>0.467855</td>\n",
       "      <td>0.000000</td>\n",
       "      <td>0.000000</td>\n",
       "      <td>0.000000</td>\n",
       "      <td>0.000000</td>\n",
       "      <td>...</td>\n",
       "      <td>0.000000</td>\n",
       "      <td>0.000000</td>\n",
       "      <td>0.000000</td>\n",
       "      <td>0.000000</td>\n",
       "      <td>0.000000</td>\n",
       "      <td>0.000000</td>\n",
       "      <td>0.000000</td>\n",
       "      <td>0.000000</td>\n",
       "      <td>0.211371</td>\n",
       "      <td>0.312375</td>\n",
       "    </tr>\n",
       "    <tr>\n",
       "      <th>50%</th>\n",
       "      <td>0.747214</td>\n",
       "      <td>0.500000</td>\n",
       "      <td>0.723184</td>\n",
       "      <td>0.366667</td>\n",
       "      <td>0.363636</td>\n",
       "      <td>0.684526</td>\n",
       "      <td>0.000000</td>\n",
       "      <td>0.000000</td>\n",
       "      <td>0.000000</td>\n",
       "      <td>0.000000</td>\n",
       "      <td>...</td>\n",
       "      <td>0.000000</td>\n",
       "      <td>1.000000</td>\n",
       "      <td>0.000000</td>\n",
       "      <td>0.000000</td>\n",
       "      <td>0.000000</td>\n",
       "      <td>0.000000</td>\n",
       "      <td>0.500000</td>\n",
       "      <td>0.000000</td>\n",
       "      <td>0.530628</td>\n",
       "      <td>0.530628</td>\n",
       "    </tr>\n",
       "    <tr>\n",
       "      <th>75%</th>\n",
       "      <td>1.021651</td>\n",
       "      <td>1.000000</td>\n",
       "      <td>1.036304</td>\n",
       "      <td>0.733333</td>\n",
       "      <td>0.545455</td>\n",
       "      <td>0.954190</td>\n",
       "      <td>0.100000</td>\n",
       "      <td>0.000000</td>\n",
       "      <td>0.000000</td>\n",
       "      <td>0.000000</td>\n",
       "      <td>...</td>\n",
       "      <td>0.000000</td>\n",
       "      <td>1.000000</td>\n",
       "      <td>1.000000</td>\n",
       "      <td>0.000000</td>\n",
       "      <td>1.000000</td>\n",
       "      <td>0.000000</td>\n",
       "      <td>1.000000</td>\n",
       "      <td>0.000000</td>\n",
       "      <td>0.804407</td>\n",
       "      <td>0.861482</td>\n",
       "    </tr>\n",
       "    <tr>\n",
       "      <th>max</th>\n",
       "      <td>1.642228</td>\n",
       "      <td>1.000000</td>\n",
       "      <td>4.059642</td>\n",
       "      <td>1.000000</td>\n",
       "      <td>1.000000</td>\n",
       "      <td>2.174069</td>\n",
       "      <td>1.000000</td>\n",
       "      <td>1.000000</td>\n",
       "      <td>1.000000</td>\n",
       "      <td>1.000000</td>\n",
       "      <td>...</td>\n",
       "      <td>1.000000</td>\n",
       "      <td>1.000000</td>\n",
       "      <td>1.000000</td>\n",
       "      <td>1.000000</td>\n",
       "      <td>1.000000</td>\n",
       "      <td>1.000000</td>\n",
       "      <td>1.000000</td>\n",
       "      <td>1.000000</td>\n",
       "      <td>4.325785</td>\n",
       "      <td>2.997398</td>\n",
       "    </tr>\n",
       "  </tbody>\n",
       "</table>\n",
       "<p>8 rows × 32 columns</p>\n",
       "</div>"
      ],
      "text/plain": [
       "               age    education      balance          day        month  \\\n",
       "count  2000.000000  2000.000000  2000.000000  2000.000000  2000.000000   \n",
       "mean      0.797573     0.616750     0.864354     0.428383     0.363864   \n",
       "std       0.293027     0.314713     0.403068     0.323740     0.279998   \n",
       "min       0.000000     0.000000     0.000000     0.000000     0.000000   \n",
       "25%       0.575364     0.500000     0.598166     0.133333     0.090909   \n",
       "50%       0.747214     0.500000     0.723184     0.366667     0.363636   \n",
       "75%       1.021651     1.000000     1.036304     0.733333     0.545455   \n",
       "max       1.642228     1.000000     4.059642     1.000000     1.000000   \n",
       "\n",
       "          duration     campaign  poutcome_other  poutcome_success  \\\n",
       "count  2000.000000  2000.000000     2000.000000       2000.000000   \n",
       "mean      0.726829     0.090950        0.073500          0.222000   \n",
       "std       0.365006     0.137886        0.261021          0.415695   \n",
       "min       0.000000     0.000000        0.000000          0.000000   \n",
       "25%       0.467855     0.000000        0.000000          0.000000   \n",
       "50%       0.684526     0.000000        0.000000          0.000000   \n",
       "75%       0.954190     0.100000        0.000000          0.000000   \n",
       "max       2.174069     1.000000        1.000000          1.000000   \n",
       "\n",
       "       poutcome_nan  ...      job_nan  marital_married  marital_single  \\\n",
       "count   2000.000000  ...  2000.000000      2000.000000     2000.000000   \n",
       "mean       0.227000  ...     0.005000         0.555500        0.337000   \n",
       "std        0.418997  ...     0.070551         0.497034        0.472803   \n",
       "min        0.000000  ...     0.000000         0.000000        0.000000   \n",
       "25%        0.000000  ...     0.000000         0.000000        0.000000   \n",
       "50%        0.000000  ...     0.000000         1.000000        0.000000   \n",
       "75%        0.000000  ...     0.000000         1.000000        1.000000   \n",
       "max        1.000000  ...     1.000000         1.000000        1.000000   \n",
       "\n",
       "       default_yes  housing_yes     loan_yes  subscribed_yes  \\\n",
       "count  2000.000000  2000.000000  2000.000000     2000.000000   \n",
       "mean      0.007500     0.481500     0.125000        0.500000   \n",
       "std       0.086299     0.499783     0.330802        0.500125   \n",
       "min       0.000000     0.000000     0.000000        0.000000   \n",
       "25%       0.000000     0.000000     0.000000        0.000000   \n",
       "50%       0.000000     0.000000     0.000000        0.500000   \n",
       "75%       0.000000     1.000000     0.000000        1.000000   \n",
       "max       1.000000     1.000000     1.000000        1.000000   \n",
       "\n",
       "       previous_contact_no  contact_by_pdays  total_contact  \n",
       "count          2000.000000       2000.000000    2000.000000  \n",
       "mean              0.227000          0.566892       0.672510  \n",
       "std               0.418997          0.432449       0.445184  \n",
       "min               0.000000          0.072016       0.032790  \n",
       "25%               0.000000          0.211371       0.312375  \n",
       "50%               0.000000          0.530628       0.530628  \n",
       "75%               0.000000          0.804407       0.861482  \n",
       "max               1.000000          4.325785       2.997398  \n",
       "\n",
       "[8 rows x 32 columns]"
      ]
     },
     "execution_count": 54,
     "metadata": {},
     "output_type": "execute_result"
    }
   ],
   "source": [
    "df.describe()"
   ]
  },
  {
   "cell_type": "code",
   "execution_count": 55,
   "id": "343b3921",
   "metadata": {},
   "outputs": [
    {
     "data": {
      "text/plain": [
       "['age',\n",
       " 'education',\n",
       " 'balance',\n",
       " 'day',\n",
       " 'month',\n",
       " 'duration',\n",
       " 'campaign',\n",
       " 'poutcome_other',\n",
       " 'poutcome_success',\n",
       " 'poutcome_nan',\n",
       " 'contact_telephone',\n",
       " 'contact_nan',\n",
       " 'job_blue-collar',\n",
       " 'job_entrepreneur',\n",
       " 'job_housemaid',\n",
       " 'job_management',\n",
       " 'job_retired',\n",
       " 'job_self-employed',\n",
       " 'job_services',\n",
       " 'job_student',\n",
       " 'job_technician',\n",
       " 'job_unemployed',\n",
       " 'job_nan',\n",
       " 'marital_married',\n",
       " 'marital_single',\n",
       " 'default_yes',\n",
       " 'housing_yes',\n",
       " 'loan_yes',\n",
       " 'subscribed_yes',\n",
       " 'previous_contact_no',\n",
       " 'contact_by_pdays',\n",
       " 'total_contact']"
      ]
     },
     "execution_count": 55,
     "metadata": {},
     "output_type": "execute_result"
    }
   ],
   "source": [
    "list(df.columns.values)"
   ]
  },
  {
   "cell_type": "code",
   "execution_count": 57,
   "id": "3861f9c0",
   "metadata": {},
   "outputs": [],
   "source": [
    "df.to_csv('bank_prepared.csv', index = None)"
   ]
  },
  {
   "cell_type": "code",
   "execution_count": 58,
   "id": "6d6359eb",
   "metadata": {},
   "outputs": [
    {
     "data": {
      "text/html": [
       "<div>\n",
       "<style scoped>\n",
       "    .dataframe tbody tr th:only-of-type {\n",
       "        vertical-align: middle;\n",
       "    }\n",
       "\n",
       "    .dataframe tbody tr th {\n",
       "        vertical-align: top;\n",
       "    }\n",
       "\n",
       "    .dataframe thead th {\n",
       "        text-align: right;\n",
       "    }\n",
       "</style>\n",
       "<table border=\"1\" class=\"dataframe\">\n",
       "  <thead>\n",
       "    <tr style=\"text-align: right;\">\n",
       "      <th></th>\n",
       "      <th>age</th>\n",
       "      <th>education</th>\n",
       "      <th>balance</th>\n",
       "      <th>day</th>\n",
       "      <th>month</th>\n",
       "      <th>duration</th>\n",
       "      <th>campaign</th>\n",
       "      <th>poutcome_other</th>\n",
       "      <th>poutcome_success</th>\n",
       "      <th>poutcome_nan</th>\n",
       "      <th>...</th>\n",
       "      <th>job_nan</th>\n",
       "      <th>marital_married</th>\n",
       "      <th>marital_single</th>\n",
       "      <th>default_yes</th>\n",
       "      <th>housing_yes</th>\n",
       "      <th>loan_yes</th>\n",
       "      <th>subscribed_yes</th>\n",
       "      <th>previous_contact_no</th>\n",
       "      <th>contact_by_pdays</th>\n",
       "      <th>total_contact</th>\n",
       "    </tr>\n",
       "  </thead>\n",
       "  <tbody>\n",
       "    <tr>\n",
       "      <th>0</th>\n",
       "      <td>0.575364</td>\n",
       "      <td>1.0</td>\n",
       "      <td>0.668238</td>\n",
       "      <td>0.000000</td>\n",
       "      <td>0.272727</td>\n",
       "      <td>1.624770</td>\n",
       "      <td>0.1</td>\n",
       "      <td>0</td>\n",
       "      <td>0</td>\n",
       "      <td>0</td>\n",
       "      <td>...</td>\n",
       "      <td>0</td>\n",
       "      <td>0</td>\n",
       "      <td>1</td>\n",
       "      <td>0</td>\n",
       "      <td>1</td>\n",
       "      <td>0</td>\n",
       "      <td>0</td>\n",
       "      <td>0</td>\n",
       "      <td>0.426779</td>\n",
       "      <td>0.709676</td>\n",
       "    </tr>\n",
       "    <tr>\n",
       "      <th>1</th>\n",
       "      <td>0.773190</td>\n",
       "      <td>0.5</td>\n",
       "      <td>0.768220</td>\n",
       "      <td>0.000000</td>\n",
       "      <td>0.272727</td>\n",
       "      <td>0.678012</td>\n",
       "      <td>0.1</td>\n",
       "      <td>0</td>\n",
       "      <td>0</td>\n",
       "      <td>0</td>\n",
       "      <td>...</td>\n",
       "      <td>0</td>\n",
       "      <td>0</td>\n",
       "      <td>0</td>\n",
       "      <td>0</td>\n",
       "      <td>1</td>\n",
       "      <td>1</td>\n",
       "      <td>0</td>\n",
       "      <td>0</td>\n",
       "      <td>0.267724</td>\n",
       "      <td>0.530628</td>\n",
       "    </tr>\n",
       "    <tr>\n",
       "      <th>2</th>\n",
       "      <td>1.187166</td>\n",
       "      <td>0.5</td>\n",
       "      <td>0.873966</td>\n",
       "      <td>0.000000</td>\n",
       "      <td>0.272727</td>\n",
       "      <td>0.412593</td>\n",
       "      <td>0.1</td>\n",
       "      <td>0</td>\n",
       "      <td>0</td>\n",
       "      <td>0</td>\n",
       "      <td>...</td>\n",
       "      <td>0</td>\n",
       "      <td>1</td>\n",
       "      <td>0</td>\n",
       "      <td>0</td>\n",
       "      <td>1</td>\n",
       "      <td>1</td>\n",
       "      <td>0</td>\n",
       "      <td>0</td>\n",
       "      <td>0.400211</td>\n",
       "      <td>0.530628</td>\n",
       "    </tr>\n",
       "    <tr>\n",
       "      <th>3</th>\n",
       "      <td>0.959776</td>\n",
       "      <td>0.5</td>\n",
       "      <td>0.670367</td>\n",
       "      <td>0.000000</td>\n",
       "      <td>0.272727</td>\n",
       "      <td>0.763570</td>\n",
       "      <td>0.0</td>\n",
       "      <td>0</td>\n",
       "      <td>0</td>\n",
       "      <td>0</td>\n",
       "      <td>...</td>\n",
       "      <td>0</td>\n",
       "      <td>1</td>\n",
       "      <td>0</td>\n",
       "      <td>0</td>\n",
       "      <td>1</td>\n",
       "      <td>1</td>\n",
       "      <td>0</td>\n",
       "      <td>0</td>\n",
       "      <td>0.645066</td>\n",
       "      <td>0.530628</td>\n",
       "    </tr>\n",
       "    <tr>\n",
       "      <th>4</th>\n",
       "      <td>1.098612</td>\n",
       "      <td>0.5</td>\n",
       "      <td>0.864961</td>\n",
       "      <td>0.000000</td>\n",
       "      <td>0.272727</td>\n",
       "      <td>1.107159</td>\n",
       "      <td>0.0</td>\n",
       "      <td>0</td>\n",
       "      <td>0</td>\n",
       "      <td>0</td>\n",
       "      <td>...</td>\n",
       "      <td>0</td>\n",
       "      <td>1</td>\n",
       "      <td>0</td>\n",
       "      <td>0</td>\n",
       "      <td>1</td>\n",
       "      <td>0</td>\n",
       "      <td>0</td>\n",
       "      <td>0</td>\n",
       "      <td>0.476804</td>\n",
       "      <td>0.312375</td>\n",
       "    </tr>\n",
       "    <tr>\n",
       "      <th>...</th>\n",
       "      <td>...</td>\n",
       "      <td>...</td>\n",
       "      <td>...</td>\n",
       "      <td>...</td>\n",
       "      <td>...</td>\n",
       "      <td>...</td>\n",
       "      <td>...</td>\n",
       "      <td>...</td>\n",
       "      <td>...</td>\n",
       "      <td>...</td>\n",
       "      <td>...</td>\n",
       "      <td>...</td>\n",
       "      <td>...</td>\n",
       "      <td>...</td>\n",
       "      <td>...</td>\n",
       "      <td>...</td>\n",
       "      <td>...</td>\n",
       "      <td>...</td>\n",
       "      <td>...</td>\n",
       "      <td>...</td>\n",
       "      <td>...</td>\n",
       "    </tr>\n",
       "    <tr>\n",
       "      <th>1995</th>\n",
       "      <td>0.105361</td>\n",
       "      <td>0.5</td>\n",
       "      <td>1.283472</td>\n",
       "      <td>0.500000</td>\n",
       "      <td>0.727273</td>\n",
       "      <td>0.864320</td>\n",
       "      <td>0.1</td>\n",
       "      <td>0</td>\n",
       "      <td>0</td>\n",
       "      <td>1</td>\n",
       "      <td>...</td>\n",
       "      <td>0</td>\n",
       "      <td>0</td>\n",
       "      <td>1</td>\n",
       "      <td>0</td>\n",
       "      <td>0</td>\n",
       "      <td>0</td>\n",
       "      <td>1</td>\n",
       "      <td>1</td>\n",
       "      <td>0.072016</td>\n",
       "      <td>0.312375</td>\n",
       "    </tr>\n",
       "    <tr>\n",
       "      <th>1996</th>\n",
       "      <td>0.441833</td>\n",
       "      <td>0.5</td>\n",
       "      <td>0.569369</td>\n",
       "      <td>0.500000</td>\n",
       "      <td>0.727273</td>\n",
       "      <td>1.901403</td>\n",
       "      <td>0.1</td>\n",
       "      <td>0</td>\n",
       "      <td>0</td>\n",
       "      <td>1</td>\n",
       "      <td>...</td>\n",
       "      <td>0</td>\n",
       "      <td>0</td>\n",
       "      <td>1</td>\n",
       "      <td>0</td>\n",
       "      <td>0</td>\n",
       "      <td>0</td>\n",
       "      <td>1</td>\n",
       "      <td>1</td>\n",
       "      <td>0.072016</td>\n",
       "      <td>0.312375</td>\n",
       "    </tr>\n",
       "    <tr>\n",
       "      <th>1997</th>\n",
       "      <td>1.504077</td>\n",
       "      <td>0.0</td>\n",
       "      <td>0.907800</td>\n",
       "      <td>0.533333</td>\n",
       "      <td>0.727273</td>\n",
       "      <td>0.673645</td>\n",
       "      <td>0.0</td>\n",
       "      <td>0</td>\n",
       "      <td>0</td>\n",
       "      <td>1</td>\n",
       "      <td>...</td>\n",
       "      <td>0</td>\n",
       "      <td>1</td>\n",
       "      <td>0</td>\n",
       "      <td>0</td>\n",
       "      <td>0</td>\n",
       "      <td>0</td>\n",
       "      <td>1</td>\n",
       "      <td>1</td>\n",
       "      <td>0.072016</td>\n",
       "      <td>0.032790</td>\n",
       "    </tr>\n",
       "    <tr>\n",
       "      <th>1998</th>\n",
       "      <td>0.938270</td>\n",
       "      <td>0.0</td>\n",
       "      <td>1.545186</td>\n",
       "      <td>0.633333</td>\n",
       "      <td>0.727273</td>\n",
       "      <td>0.567555</td>\n",
       "      <td>0.0</td>\n",
       "      <td>0</td>\n",
       "      <td>0</td>\n",
       "      <td>1</td>\n",
       "      <td>...</td>\n",
       "      <td>0</td>\n",
       "      <td>1</td>\n",
       "      <td>0</td>\n",
       "      <td>0</td>\n",
       "      <td>1</td>\n",
       "      <td>0</td>\n",
       "      <td>1</td>\n",
       "      <td>1</td>\n",
       "      <td>0.072016</td>\n",
       "      <td>0.032790</td>\n",
       "    </tr>\n",
       "    <tr>\n",
       "      <th>1999</th>\n",
       "      <td>0.798508</td>\n",
       "      <td>0.5</td>\n",
       "      <td>1.810978</td>\n",
       "      <td>0.700000</td>\n",
       "      <td>0.727273</td>\n",
       "      <td>0.622006</td>\n",
       "      <td>0.1</td>\n",
       "      <td>0</td>\n",
       "      <td>0</td>\n",
       "      <td>1</td>\n",
       "      <td>...</td>\n",
       "      <td>0</td>\n",
       "      <td>1</td>\n",
       "      <td>0</td>\n",
       "      <td>0</td>\n",
       "      <td>0</td>\n",
       "      <td>0</td>\n",
       "      <td>1</td>\n",
       "      <td>1</td>\n",
       "      <td>0.072016</td>\n",
       "      <td>0.312375</td>\n",
       "    </tr>\n",
       "  </tbody>\n",
       "</table>\n",
       "<p>2000 rows × 32 columns</p>\n",
       "</div>"
      ],
      "text/plain": [
       "           age  education   balance       day     month  duration  campaign  \\\n",
       "0     0.575364        1.0  0.668238  0.000000  0.272727  1.624770       0.1   \n",
       "1     0.773190        0.5  0.768220  0.000000  0.272727  0.678012       0.1   \n",
       "2     1.187166        0.5  0.873966  0.000000  0.272727  0.412593       0.1   \n",
       "3     0.959776        0.5  0.670367  0.000000  0.272727  0.763570       0.0   \n",
       "4     1.098612        0.5  0.864961  0.000000  0.272727  1.107159       0.0   \n",
       "...        ...        ...       ...       ...       ...       ...       ...   \n",
       "1995  0.105361        0.5  1.283472  0.500000  0.727273  0.864320       0.1   \n",
       "1996  0.441833        0.5  0.569369  0.500000  0.727273  1.901403       0.1   \n",
       "1997  1.504077        0.0  0.907800  0.533333  0.727273  0.673645       0.0   \n",
       "1998  0.938270        0.0  1.545186  0.633333  0.727273  0.567555       0.0   \n",
       "1999  0.798508        0.5  1.810978  0.700000  0.727273  0.622006       0.1   \n",
       "\n",
       "      poutcome_other  poutcome_success  poutcome_nan  ...  job_nan  \\\n",
       "0                  0                 0             0  ...        0   \n",
       "1                  0                 0             0  ...        0   \n",
       "2                  0                 0             0  ...        0   \n",
       "3                  0                 0             0  ...        0   \n",
       "4                  0                 0             0  ...        0   \n",
       "...              ...               ...           ...  ...      ...   \n",
       "1995               0                 0             1  ...        0   \n",
       "1996               0                 0             1  ...        0   \n",
       "1997               0                 0             1  ...        0   \n",
       "1998               0                 0             1  ...        0   \n",
       "1999               0                 0             1  ...        0   \n",
       "\n",
       "      marital_married  marital_single  default_yes  housing_yes  loan_yes  \\\n",
       "0                   0               1            0            1         0   \n",
       "1                   0               0            0            1         1   \n",
       "2                   1               0            0            1         1   \n",
       "3                   1               0            0            1         1   \n",
       "4                   1               0            0            1         0   \n",
       "...               ...             ...          ...          ...       ...   \n",
       "1995                0               1            0            0         0   \n",
       "1996                0               1            0            0         0   \n",
       "1997                1               0            0            0         0   \n",
       "1998                1               0            0            1         0   \n",
       "1999                1               0            0            0         0   \n",
       "\n",
       "      subscribed_yes  previous_contact_no  contact_by_pdays  total_contact  \n",
       "0                  0                    0          0.426779       0.709676  \n",
       "1                  0                    0          0.267724       0.530628  \n",
       "2                  0                    0          0.400211       0.530628  \n",
       "3                  0                    0          0.645066       0.530628  \n",
       "4                  0                    0          0.476804       0.312375  \n",
       "...              ...                  ...               ...            ...  \n",
       "1995               1                    1          0.072016       0.312375  \n",
       "1996               1                    1          0.072016       0.312375  \n",
       "1997               1                    1          0.072016       0.032790  \n",
       "1998               1                    1          0.072016       0.032790  \n",
       "1999               1                    1          0.072016       0.312375  \n",
       "\n",
       "[2000 rows x 32 columns]"
      ]
     },
     "execution_count": 58,
     "metadata": {},
     "output_type": "execute_result"
    }
   ],
   "source": [
    "df"
   ]
  },
  {
   "cell_type": "code",
   "execution_count": null,
   "id": "cf4a2a26",
   "metadata": {},
   "outputs": [],
   "source": []
  }
 ],
 "metadata": {
  "kernelspec": {
   "display_name": "Python 3 (ipykernel)",
   "language": "python",
   "name": "python3"
  },
  "language_info": {
   "codemirror_mode": {
    "name": "ipython",
    "version": 3
   },
   "file_extension": ".py",
   "mimetype": "text/x-python",
   "name": "python",
   "nbconvert_exporter": "python",
   "pygments_lexer": "ipython3",
   "version": "3.10.9"
  }
 },
 "nbformat": 4,
 "nbformat_minor": 5
}
